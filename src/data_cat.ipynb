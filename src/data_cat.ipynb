{
 "cells": [
  {
   "cell_type": "code",
   "execution_count": 1,
   "id": "initial_id",
   "metadata": {
    "collapsed": true,
    "ExecuteTime": {
     "end_time": "2023-12-18T06:50:19.574312900Z",
     "start_time": "2023-12-18T06:50:19.453688100Z"
    }
   },
   "outputs": [],
   "source": [
    "import json\n",
    "\n",
    "map = {}\n",
    "with open('./data/ccks2019_task1.json', encoding='utf-8') as f:\n",
    "  for line in f:\n",
    "      j = json.loads(line)\n",
    "      for label in j['labels']:\n",
    "          if label not in map:\n",
    "              map[label] = label"
   ]
  },
  {
   "cell_type": "code",
   "execution_count": 2,
   "outputs": [
    {
     "data": {
      "text/plain": "{'O': 'O',\n 'B-解剖部位': 'B-解剖部位',\n 'I-解剖部位': 'I-解剖部位',\n 'B-手术': 'B-手术',\n 'I-手术': 'I-手术',\n 'B-疾病和诊断': 'B-疾病和诊断',\n 'I-疾病和诊断': 'I-疾病和诊断',\n 'B-影像检查': 'B-影像检查',\n 'I-影像检查': 'I-影像检查',\n 'B-药物': 'B-药物',\n 'I-药物': 'I-药物',\n 'B-实验室检验': 'B-实验室检验',\n 'I-实验室检验': 'I-实验室检验'}"
     },
     "execution_count": 2,
     "metadata": {},
     "output_type": "execute_result"
    }
   ],
   "source": [
    "map"
   ],
   "metadata": {
    "collapsed": false,
    "ExecuteTime": {
     "end_time": "2023-12-18T06:50:20.827250400Z",
     "start_time": "2023-12-18T06:50:20.799237Z"
    }
   },
   "id": "e2e0f0a9eb36070b"
  },
  {
   "cell_type": "code",
   "execution_count": 3,
   "outputs": [
    {
     "data": {
      "text/plain": "{'O': 0,\n 'B-解剖部位': 1,\n 'I-解剖部位': 2,\n 'B-手术': 3,\n 'I-手术': 4,\n 'B-疾病和诊断': 5,\n 'I-疾病和诊断': 6,\n 'B-影像检查': 7,\n 'I-影像检查': 8,\n 'B-药物': 9,\n 'I-药物': 10,\n 'B-实验室检验': 11,\n 'I-实验室检验': 12}"
     },
     "execution_count": 3,
     "metadata": {},
     "output_type": "execute_result"
    }
   ],
   "source": [
    "count = 0\n",
    "for m in map:\n",
    "    map[m] = count\n",
    "    count+=1\n",
    "\n",
    "map"
   ],
   "metadata": {
    "collapsed": false,
    "ExecuteTime": {
     "end_time": "2023-12-18T06:50:21.753988Z",
     "start_time": "2023-12-18T06:50:21.724069200Z"
    }
   },
   "id": "46ccf3d4e27ebf0d"
  },
  {
   "cell_type": "code",
   "execution_count": 4,
   "outputs": [
    {
     "data": {
      "text/plain": "{'O': 447929,\n 'B-解剖部位': 11521,\n 'I-解剖部位': 17030,\n 'B-手术': 1194,\n 'I-手术': 14116,\n 'B-疾病和诊断': 5540,\n 'I-疾病和诊断': 33082,\n 'B-影像检查': 1324,\n 'I-影像检查': 3683,\n 'B-药物': 2316,\n 'I-药物': 6258,\n 'B-实验室检验': 1796,\n 'I-实验室检验': 5360}"
     },
     "execution_count": 4,
     "metadata": {},
     "output_type": "execute_result"
    }
   ],
   "source": [
    "map_count = map\n",
    "with open('./data/ccks2019_task1.json', encoding='utf-8') as f:\n",
    "  for line in f:\n",
    "      j = json.loads(line)\n",
    "      for label in j['labels']:\n",
    "          if label in map:\n",
    "              map_count[label] += 1\n",
    "              \n",
    "map_count"
   ],
   "metadata": {
    "collapsed": false,
    "ExecuteTime": {
     "end_time": "2023-12-18T06:50:25.775137900Z",
     "start_time": "2023-12-18T06:50:25.592522500Z"
    }
   },
   "id": "15a374c14689796c"
  },
  {
   "cell_type": "code",
   "execution_count": 8,
   "outputs": [],
   "source": [
    "import pandas as pd\n",
    "import json\n",
    "\n",
    "dataMap = []\n",
    "with open('./data/ccks2019_task1.json', encoding='utf-8') as f:\n",
    "  for line in f:\n",
    "      j = json.loads(line)\n",
    "      \n",
    "      textList = j['text'].split(\"。\")\n",
    "      text_len = 0\n",
    "      \n",
    "      current_text = \"\"\n",
    "      current_bio = \"\"\n",
    "      \n",
    "      for i in range(len(textList)):\n",
    "          text = textList[i] + \"。\"\n",
    "          \n",
    "          if len(current_text) + len(text) > 256:\n",
    "              current_data = {\"text\": current_text, \"BIO_anno\": \" \".join(j[\"labels\"][text_len:text_len+len(current_text)])}\n",
    "              dataMap.append(current_data)\n",
    "              text_len += len(current_text)\n",
    "              current_text = text\n",
    "          elif i == len(textList)-1:\n",
    "              if len(current_text+text) - len(j[\"labels\"][text_len:]) == 1:\n",
    "                  j[\"labels\"].append('O')\n",
    "              else:\n",
    "                  print(line)\n",
    "                  break\n",
    "              current_data = {\"text\": current_text+text, \"BIO_anno\": \" \".join(j[\"labels\"][text_len:])}\n",
    "              dataMap.append(current_data)\n",
    "          else:\n",
    "              current_text += text\n",
    "      \n",
    "      \n",
    "data = pd.DataFrame(dataMap)"
   ],
   "metadata": {
    "collapsed": false,
    "ExecuteTime": {
     "end_time": "2023-12-16T08:36:13.508269600Z",
     "start_time": "2023-12-16T08:36:13.374346400Z"
    }
   },
   "id": "68d8bc41065fd9eb"
  },
  {
   "cell_type": "code",
   "execution_count": 9,
   "outputs": [
    {
     "data": {
      "text/plain": "                                                   text  \\\n0     ，患者2008年9月3日因“腹胀，发现腹部包块”在我院腹科行手术探查，术中见盆腹腔肿物，与肠...   \n1     于2015-7-6行剖腹探查+膀胱旁肿物切除+骶前肿物切除+肠表面肿物切除术，术程顺利，，术...   \n2     ，患者于2011年9月29日在我院因“子宫内膜癌II期”在全麻上行“广泛全子宫切除+两侧附件...   \n3     术程顺利，，术后病理回报：腹水未见癌；（全子宫+两附件）送检子宫大小为10*6*4CM，宫腔...   \n4     于2011年10月11日、11月16日行TP（泰素+伯尔定）方案化疗2程，化疗后出现轻度恶心...   \n...                                                 ...   \n3078  病程中多次出现黑便即来我科住院治疗，曾于2015-06-17行“无痛胃镜示胃底静脉曲张（1条...   \n3079               病程中精神、睡眠欠佳，饮食尚可，大便如下述，小便正常。体重无明显减轻。。   \n3080  患者入院前2年无明显诱因检查时发现\\\"肺部结节\\\"，当时患者无明显咳嗽、胸痛等不适，建议患者...   \n3081  入院前1月患者感咳嗽，多以干咳为主，偶可咳出少许白色泡沫痰，并痰中带血，活动后感气喘，无畏寒...   \n3082                      。病程中患者精神、饮食一般，大小便正常，体重无明显上降。。   \n\n                                               BIO_anno  \n0     O O O O O O O O O O O O O O B-解剖部位 O O O O B-解...  \n1     O O O O O O O O O O B-手术 I-手术 I-手术 I-手术 I-手术 I...  \n2     O O O O O O O O O O O O O O O O O O O B-疾病和诊断 ...  \n3     O O O O O O O O O O O O O B-解剖部位 O O O O O O B...  \n4     O O O O O O O O O O O O O O O O O O O O O O O ...  \n...                                                 ...  \n3078  O O O O O O O O O O O O O O O O O O O O O O O ...  \n3079  O O O O O O O O O O O O O O O O O O O O O O O ...  \n3080  O O O O O O O O O O O O O O O O O O O B-疾病和诊断 ...  \n3081  O O O O O O O O O O O O O O O O O O O O O O O ...  \n3082  O O O O O O O O O O O O O O O O O O O O O O O ...  \n\n[3035 rows x 2 columns]",
      "text/html": "<div>\n<style scoped>\n    .dataframe tbody tr th:only-of-type {\n        vertical-align: middle;\n    }\n\n    .dataframe tbody tr th {\n        vertical-align: top;\n    }\n\n    .dataframe thead th {\n        text-align: right;\n    }\n</style>\n<table border=\"1\" class=\"dataframe\">\n  <thead>\n    <tr style=\"text-align: right;\">\n      <th></th>\n      <th>text</th>\n      <th>BIO_anno</th>\n    </tr>\n  </thead>\n  <tbody>\n    <tr>\n      <th>0</th>\n      <td>，患者2008年9月3日因“腹胀，发现腹部包块”在我院腹科行手术探查，术中见盆腹腔肿物，与肠...</td>\n      <td>O O O O O O O O O O O O O O B-解剖部位 O O O O B-解...</td>\n    </tr>\n    <tr>\n      <th>1</th>\n      <td>于2015-7-6行剖腹探查+膀胱旁肿物切除+骶前肿物切除+肠表面肿物切除术，术程顺利，，术...</td>\n      <td>O O O O O O O O O O B-手术 I-手术 I-手术 I-手术 I-手术 I...</td>\n    </tr>\n    <tr>\n      <th>2</th>\n      <td>，患者于2011年9月29日在我院因“子宫内膜癌II期”在全麻上行“广泛全子宫切除+两侧附件...</td>\n      <td>O O O O O O O O O O O O O O O O O O O B-疾病和诊断 ...</td>\n    </tr>\n    <tr>\n      <th>3</th>\n      <td>术程顺利，，术后病理回报：腹水未见癌；（全子宫+两附件）送检子宫大小为10*6*4CM，宫腔...</td>\n      <td>O O O O O O O O O O O O O B-解剖部位 O O O O O O B...</td>\n    </tr>\n    <tr>\n      <th>4</th>\n      <td>于2011年10月11日、11月16日行TP（泰素+伯尔定）方案化疗2程，化疗后出现轻度恶心...</td>\n      <td>O O O O O O O O O O O O O O O O O O O O O O O ...</td>\n    </tr>\n    <tr>\n      <th>...</th>\n      <td>...</td>\n      <td>...</td>\n    </tr>\n    <tr>\n      <th>3078</th>\n      <td>病程中多次出现黑便即来我科住院治疗，曾于2015-06-17行“无痛胃镜示胃底静脉曲张（1条...</td>\n      <td>O O O O O O O O O O O O O O O O O O O O O O O ...</td>\n    </tr>\n    <tr>\n      <th>3079</th>\n      <td>病程中精神、睡眠欠佳，饮食尚可，大便如下述，小便正常。体重无明显减轻。。</td>\n      <td>O O O O O O O O O O O O O O O O O O O O O O O ...</td>\n    </tr>\n    <tr>\n      <th>3080</th>\n      <td>患者入院前2年无明显诱因检查时发现\\\"肺部结节\\\"，当时患者无明显咳嗽、胸痛等不适，建议患者...</td>\n      <td>O O O O O O O O O O O O O O O O O O O B-疾病和诊断 ...</td>\n    </tr>\n    <tr>\n      <th>3081</th>\n      <td>入院前1月患者感咳嗽，多以干咳为主，偶可咳出少许白色泡沫痰，并痰中带血，活动后感气喘，无畏寒...</td>\n      <td>O O O O O O O O O O O O O O O O O O O O O O O ...</td>\n    </tr>\n    <tr>\n      <th>3082</th>\n      <td>。病程中患者精神、饮食一般，大小便正常，体重无明显上降。。</td>\n      <td>O O O O O O O O O O O O O O O O O O O O O O O ...</td>\n    </tr>\n  </tbody>\n</table>\n<p>3035 rows × 2 columns</p>\n</div>"
     },
     "execution_count": 9,
     "metadata": {},
     "output_type": "execute_result"
    }
   ],
   "source": [
    "data = data.rename(columns={'text':'text','labels':'BIO_anno'})   #对指定的columns重命名\n",
    "data = data[data.text != \"\"]\n",
    "data"
   ],
   "metadata": {
    "collapsed": false,
    "ExecuteTime": {
     "end_time": "2023-12-16T08:36:14.668135800Z",
     "start_time": "2023-12-16T08:36:14.642178400Z"
    }
   },
   "id": "9af49d70f89dc56e"
  },
  {
   "cell_type": "code",
   "execution_count": 10,
   "outputs": [],
   "source": [
    "data.dropna(inplace=True)\n",
    "\n",
    "for index, row in data.iterrows():\n",
    "    if len(row['text']) != len(row['BIO_anno'].split(\" \")):\n",
    "        print(index)"
   ],
   "metadata": {
    "collapsed": false,
    "ExecuteTime": {
     "end_time": "2023-12-16T08:36:18.205815500Z",
     "start_time": "2023-12-16T08:36:18.023727200Z"
    }
   },
   "id": "be46264fc7b3542e"
  },
  {
   "cell_type": "code",
   "execution_count": 11,
   "outputs": [],
   "source": [
    "def getEntityList(text, bioList):\n",
    "    entity_list = []\n",
    "    start = end = 0\n",
    "    bio_type = \"\"\n",
    "    \n",
    "    bio = []\n",
    "    for i in range(len(bioList)):\n",
    "         if 'B-' in bioList[i]:\n",
    "             bio_type = bioList[i].replace('B-', '')\n",
    "             for j in range(i, len(bioList)):\n",
    "                current = bioList[j].replace('I-', '').replace('B-', '')\n",
    "                if current != bio_type:\n",
    "                    bio.append({\n",
    "                        'start': i,\n",
    "                        'end': j,\n",
    "                    })\n",
    "                    i = j\n",
    "                    break\n",
    "\n",
    "    print(bio)\n",
    "    for x in bio:\n",
    "        entity_list.append(text[x['start']: x['end']])    \n",
    "    return entity_list"
   ],
   "metadata": {
    "collapsed": false,
    "ExecuteTime": {
     "end_time": "2023-12-16T08:36:19.308555Z",
     "start_time": "2023-12-16T08:36:19.292736900Z"
    }
   },
   "id": "81d6ac0991a6e3c5"
  },
  {
   "cell_type": "code",
   "execution_count": 12,
   "outputs": [
    {
     "name": "stdout",
     "output_type": "stream",
     "text": [
      "[{'start': 0, 'end': 5}, {'start': 14, 'end': 19}, {'start': 20, 'end': 24}, {'start': 25, 'end': 30}, {'start': 37, 'end': 42}, {'start': 43, 'end': 48}, {'start': 49, 'end': 57}, {'start': 115, 'end': 127}, {'start': 128, 'end': 135}, {'start': 136, 'end': 141}]\n"
     ]
    },
    {
     "data": {
      "text/plain": "['2型糖尿病',\n '阿卡波糖片',\n '格列美脲',\n '甘精胰岛素',\n '糖尿病眼病',\n '糖尿病肾病',\n '糖尿病周围神经病',\n '原发性高血压3级 极高危',\n '高血压性心脏病',\n '心功能Ⅱ级']"
     },
     "execution_count": 12,
     "metadata": {},
     "output_type": "execute_result"
    }
   ],
   "source": [
    "getEntityList(data.iloc[255]['text'], data.iloc[255]['BIO_anno'].split(\" \"))"
   ],
   "metadata": {
    "collapsed": false,
    "ExecuteTime": {
     "end_time": "2023-12-16T08:36:19.956065700Z",
     "start_time": "2023-12-16T08:36:19.923466Z"
    }
   },
   "id": "a2ddf2810a360e90"
  },
  {
   "cell_type": "code",
   "execution_count": 13,
   "outputs": [
    {
     "data": {
      "text/plain": "                                                   text  \\\n0     ，患者2008年9月3日因“腹胀，发现腹部包块”在我院腹科行手术探查，术中见盆腹腔肿物，与肠...   \n1     于2015-7-6行剖腹探查+膀胱旁肿物切除+骶前肿物切除+肠表面肿物切除术，术程顺利，，术...   \n2     ，患者于2011年9月29日在我院因“子宫内膜癌II期”在全麻上行“广泛全子宫切除+两侧附件...   \n3     术程顺利，，术后病理回报：腹水未见癌；（全子宫+两附件）送检子宫大小为10*6*4CM，宫腔...   \n4     于2011年10月11日、11月16日行TP（泰素+伯尔定）方案化疗2程，化疗后出现轻度恶心...   \n...                                                 ...   \n3078  病程中多次出现黑便即来我科住院治疗，曾于2015-06-17行“无痛胃镜示胃底静脉曲张（1条...   \n3079               病程中精神、睡眠欠佳，饮食尚可，大便如下述，小便正常。体重无明显减轻。。   \n3080  患者入院前2年无明显诱因检查时发现\\\"肺部结节\\\"，当时患者无明显咳嗽、胸痛等不适，建议患者...   \n3081  入院前1月患者感咳嗽，多以干咳为主，偶可咳出少许白色泡沫痰，并痰中带血，活动后感气喘，无畏寒...   \n3082                      。病程中患者精神、饮食一般，大小便正常，体重无明显上降。。   \n\n                                               BIO_anno  \n0     O O O O O O O O O O O O O O B-解剖部位 O O O O B-解...  \n1     O O O O O O O O O O B-手术 I-手术 I-手术 I-手术 I-手术 I...  \n2     O O O O O O O O O O O O O O O O O O O B-疾病和诊断 ...  \n3     O O O O O O O O O O O O O B-解剖部位 O O O O O O B...  \n4     O O O O O O O O O O O O O O O O O O O O O O O ...  \n...                                                 ...  \n3078  O O O O O O O O O O O O O O O O O O O O O O O ...  \n3079  O O O O O O O O O O O O O O O O O O O O O O O ...  \n3080  O O O O O O O O O O O O O O O O O O O B-疾病和诊断 ...  \n3081  O O O O O O O O O O O O O O O O O O O O O O O ...  \n3082  O O O O O O O O O O O O O O O O O O O O O O O ...  \n\n[3035 rows x 2 columns]",
      "text/html": "<div>\n<style scoped>\n    .dataframe tbody tr th:only-of-type {\n        vertical-align: middle;\n    }\n\n    .dataframe tbody tr th {\n        vertical-align: top;\n    }\n\n    .dataframe thead th {\n        text-align: right;\n    }\n</style>\n<table border=\"1\" class=\"dataframe\">\n  <thead>\n    <tr style=\"text-align: right;\">\n      <th></th>\n      <th>text</th>\n      <th>BIO_anno</th>\n    </tr>\n  </thead>\n  <tbody>\n    <tr>\n      <th>0</th>\n      <td>，患者2008年9月3日因“腹胀，发现腹部包块”在我院腹科行手术探查，术中见盆腹腔肿物，与肠...</td>\n      <td>O O O O O O O O O O O O O O B-解剖部位 O O O O B-解...</td>\n    </tr>\n    <tr>\n      <th>1</th>\n      <td>于2015-7-6行剖腹探查+膀胱旁肿物切除+骶前肿物切除+肠表面肿物切除术，术程顺利，，术...</td>\n      <td>O O O O O O O O O O B-手术 I-手术 I-手术 I-手术 I-手术 I...</td>\n    </tr>\n    <tr>\n      <th>2</th>\n      <td>，患者于2011年9月29日在我院因“子宫内膜癌II期”在全麻上行“广泛全子宫切除+两侧附件...</td>\n      <td>O O O O O O O O O O O O O O O O O O O B-疾病和诊断 ...</td>\n    </tr>\n    <tr>\n      <th>3</th>\n      <td>术程顺利，，术后病理回报：腹水未见癌；（全子宫+两附件）送检子宫大小为10*6*4CM，宫腔...</td>\n      <td>O O O O O O O O O O O O O B-解剖部位 O O O O O O B...</td>\n    </tr>\n    <tr>\n      <th>4</th>\n      <td>于2011年10月11日、11月16日行TP（泰素+伯尔定）方案化疗2程，化疗后出现轻度恶心...</td>\n      <td>O O O O O O O O O O O O O O O O O O O O O O O ...</td>\n    </tr>\n    <tr>\n      <th>...</th>\n      <td>...</td>\n      <td>...</td>\n    </tr>\n    <tr>\n      <th>3078</th>\n      <td>病程中多次出现黑便即来我科住院治疗，曾于2015-06-17行“无痛胃镜示胃底静脉曲张（1条...</td>\n      <td>O O O O O O O O O O O O O O O O O O O O O O O ...</td>\n    </tr>\n    <tr>\n      <th>3079</th>\n      <td>病程中精神、睡眠欠佳，饮食尚可，大便如下述，小便正常。体重无明显减轻。。</td>\n      <td>O O O O O O O O O O O O O O O O O O O O O O O ...</td>\n    </tr>\n    <tr>\n      <th>3080</th>\n      <td>患者入院前2年无明显诱因检查时发现\\\"肺部结节\\\"，当时患者无明显咳嗽、胸痛等不适，建议患者...</td>\n      <td>O O O O O O O O O O O O O O O O O O O B-疾病和诊断 ...</td>\n    </tr>\n    <tr>\n      <th>3081</th>\n      <td>入院前1月患者感咳嗽，多以干咳为主，偶可咳出少许白色泡沫痰，并痰中带血，活动后感气喘，无畏寒...</td>\n      <td>O O O O O O O O O O O O O O O O O O O O O O O ...</td>\n    </tr>\n    <tr>\n      <th>3082</th>\n      <td>。病程中患者精神、饮食一般，大小便正常，体重无明显上降。。</td>\n      <td>O O O O O O O O O O O O O O O O O O O O O O O ...</td>\n    </tr>\n  </tbody>\n</table>\n<p>3035 rows × 2 columns</p>\n</div>"
     },
     "execution_count": 13,
     "metadata": {},
     "output_type": "execute_result"
    }
   ],
   "source": [
    "data.dropna(inplace=True)\n",
    "data = data[data.text != '']\n",
    "data"
   ],
   "metadata": {
    "collapsed": false,
    "ExecuteTime": {
     "end_time": "2023-12-16T08:36:22.705554800Z",
     "start_time": "2023-12-16T08:36:22.652155Z"
    }
   },
   "id": "29e18f9bed7e034a"
  },
  {
   "cell_type": "code",
   "execution_count": 14,
   "outputs": [],
   "source": [
    "from sklearn.model_selection import train_test_split\n",
    "\n",
    "X_train = data[0:2700]\n",
    "y_train = data[2700:]"
   ],
   "metadata": {
    "collapsed": false,
    "ExecuteTime": {
     "end_time": "2023-12-16T08:36:41.497564700Z",
     "start_time": "2023-12-16T08:36:40.627548600Z"
    }
   },
   "id": "6f9e2427627e5396"
  },
  {
   "cell_type": "code",
   "execution_count": 15,
   "outputs": [],
   "source": [
    "X_train.to_csv('./data/ccks_2019_train_split.csv')\n",
    "y_train.to_csv('./data/ccks_2019_test_split.csv')"
   ],
   "metadata": {
    "collapsed": false,
    "ExecuteTime": {
     "end_time": "2023-12-16T08:36:46.734537700Z",
     "start_time": "2023-12-16T08:36:46.644614500Z"
    }
   },
   "id": "7abaf0742166f547"
  },
  {
   "cell_type": "code",
   "execution_count": 12,
   "outputs": [
    {
     "data": {
      "text/plain": "                                                  text  \\\n0    一般情况可，心肺未见异常。腹平坦，未见胃肠型及蠕动波。上腹部压痛阳性，无反跳痛及肌紧张。肝脾...   \n1    患者精神可，少量进食，睡眠可，诉自造瘘口排气排出软便。查体：一般情况可，心、肺未见明显异常。...   \n2    神清，精神可。右胸部疼痛不明显，双上肢无疼痛，无头痛头晕，无恶心呕吐。睡眠可，饮食及二便正常...   \n3    患者神志清，精神可，饮食睡眠可，二便正常。未诉不适，无发热，无头痛头晕，无恶心呕吐，无腹痛腹...   \n4    现患者一般情况可，双飞呼吸音清晰，未闻及啰音，律齐，各瓣膜听诊区未闻及病理性杂音，腹膨隆，腹...   \n..                                                 ...   \n904  1.患者男性，30岁；2.既往体健；3.患者于入院前约2小时被他人打伤左侧头面部、左前胸部、...   \n905  颈左右对称，软，无抵抗，无静脉怒张及颈动脉异常搏动。气管居中，甲状腺不大，无压痛，未闻及血管...   \n906  肠鸣音正常，无亢进（6次/分）。肛门未查，外生殖器见专科情况。脊柱四肢无畸形，活动自如，双下...   \n907  1.患者男性，30岁；2.既往体健；3.患者于入院前约小时骑摩托车时摔伤，左侧胸背部着地，当...   \n908  鼻无畸形，无鼻甲肥大，各鼻窦压痛点无压痛。口唇无苍白，咽无充血，双侧扁桃腺不大。颈左右对称，...   \n\n                                              BIO_anno  \n0    O O O O O O B-身体部位 B-身体部位 O O O O O B-身体部位 O O...  \n1    O O O O O O O O O O O O O O O O O O O O O O O ...  \n2    O O O O O O O B-身体部位 I-身体部位 I-身体部位 B-症状和体征 I-症...  \n3    O O O O O O O O O O O O O O O O B-身体部位 I-身体部位 ...  \n4    O O O O O O O O O O O B-检查和检验 I-检查和检验 I-检查和检验 ...  \n..                                                 ...  \n904  O O O O O O O O O O O O O O O O O O O O O O O ...  \n905  B-身体部位 O O O O O O O O O O O O B-症状和体征 I-症状和体征...  \n906  B-检查和检验 I-检查和检验 I-检查和检验 O O O O O O O O O O O ...  \n907  O O O O O O O O O O O O O O O O O O O O O O O ...  \n908  B-身体部位 O B-症状和体征 I-症状和体征 O O B-身体部位 I-身体部位 O O...  \n\n[909 rows x 2 columns]",
      "text/html": "<div>\n<style scoped>\n    .dataframe tbody tr th:only-of-type {\n        vertical-align: middle;\n    }\n\n    .dataframe tbody tr th {\n        vertical-align: top;\n    }\n\n    .dataframe thead th {\n        text-align: right;\n    }\n</style>\n<table border=\"1\" class=\"dataframe\">\n  <thead>\n    <tr style=\"text-align: right;\">\n      <th></th>\n      <th>text</th>\n      <th>BIO_anno</th>\n    </tr>\n  </thead>\n  <tbody>\n    <tr>\n      <th>0</th>\n      <td>一般情况可，心肺未见异常。腹平坦，未见胃肠型及蠕动波。上腹部压痛阳性，无反跳痛及肌紧张。肝脾...</td>\n      <td>O O O O O O B-身体部位 B-身体部位 O O O O O B-身体部位 O O...</td>\n    </tr>\n    <tr>\n      <th>1</th>\n      <td>患者精神可，少量进食，睡眠可，诉自造瘘口排气排出软便。查体：一般情况可，心、肺未见明显异常。...</td>\n      <td>O O O O O O O O O O O O O O O O O O O O O O O ...</td>\n    </tr>\n    <tr>\n      <th>2</th>\n      <td>神清，精神可。右胸部疼痛不明显，双上肢无疼痛，无头痛头晕，无恶心呕吐。睡眠可，饮食及二便正常...</td>\n      <td>O O O O O O O B-身体部位 I-身体部位 I-身体部位 B-症状和体征 I-症...</td>\n    </tr>\n    <tr>\n      <th>3</th>\n      <td>患者神志清，精神可，饮食睡眠可，二便正常。未诉不适，无发热，无头痛头晕，无恶心呕吐，无腹痛腹...</td>\n      <td>O O O O O O O O O O O O O O O O B-身体部位 I-身体部位 ...</td>\n    </tr>\n    <tr>\n      <th>4</th>\n      <td>现患者一般情况可，双飞呼吸音清晰，未闻及啰音，律齐，各瓣膜听诊区未闻及病理性杂音，腹膨隆，腹...</td>\n      <td>O O O O O O O O O O O B-检查和检验 I-检查和检验 I-检查和检验 ...</td>\n    </tr>\n    <tr>\n      <th>...</th>\n      <td>...</td>\n      <td>...</td>\n    </tr>\n    <tr>\n      <th>904</th>\n      <td>1.患者男性，30岁；2.既往体健；3.患者于入院前约2小时被他人打伤左侧头面部、左前胸部、...</td>\n      <td>O O O O O O O O O O O O O O O O O O O O O O O ...</td>\n    </tr>\n    <tr>\n      <th>905</th>\n      <td>颈左右对称，软，无抵抗，无静脉怒张及颈动脉异常搏动。气管居中，甲状腺不大，无压痛，未闻及血管...</td>\n      <td>B-身体部位 O O O O O O O O O O O O B-症状和体征 I-症状和体征...</td>\n    </tr>\n    <tr>\n      <th>906</th>\n      <td>肠鸣音正常，无亢进（6次/分）。肛门未查，外生殖器见专科情况。脊柱四肢无畸形，活动自如，双下...</td>\n      <td>B-检查和检验 I-检查和检验 I-检查和检验 O O O O O O O O O O O ...</td>\n    </tr>\n    <tr>\n      <th>907</th>\n      <td>1.患者男性，30岁；2.既往体健；3.患者于入院前约小时骑摩托车时摔伤，左侧胸背部着地，当...</td>\n      <td>O O O O O O O O O O O O O O O O O O O O O O O ...</td>\n    </tr>\n    <tr>\n      <th>908</th>\n      <td>鼻无畸形，无鼻甲肥大，各鼻窦压痛点无压痛。口唇无苍白，咽无充血，双侧扁桃腺不大。颈左右对称，...</td>\n      <td>B-身体部位 O B-症状和体征 I-症状和体征 O O B-身体部位 I-身体部位 O O...</td>\n    </tr>\n  </tbody>\n</table>\n<p>909 rows × 2 columns</p>\n</div>"
     },
     "execution_count": 12,
     "metadata": {},
     "output_type": "execute_result"
    }
   ],
   "source": [
    "X_train"
   ],
   "metadata": {
    "collapsed": false,
    "ExecuteTime": {
     "end_time": "2023-12-15T23:14:36.913844800Z",
     "start_time": "2023-12-15T23:14:36.900318100Z"
    }
   },
   "id": "e2134e0679f5e7d3"
  },
  {
   "cell_type": "code",
   "execution_count": 7,
   "outputs": [
    {
     "data": {
      "text/plain": "       Unnamed: 0.1  Unnamed: 0  \\\n0                 0         0.0   \n1                 1         1.0   \n2                 2         2.0   \n3                 3         3.0   \n4                 4         4.0   \n...             ...         ...   \n28928         26228         NaN   \n28929         26229         NaN   \n28930         26230         NaN   \n28931         26231         NaN   \n28932         26232         NaN   \n\n                                                    text  \\\n0      ，患者2008年9月3日因“腹胀，发现腹部包块”在我院腹科行手术探查，术中见盆腹腔肿物，与肠...   \n1      于2015-7-6行剖腹探查+膀胱旁肿物切除+骶前肿物切除+肠表面肿物切除术，术程顺利，，术...   \n2      ，患者于2011年9月29日在我院因“子宫内膜癌II期”在全麻上行“广泛全子宫切除+两侧附件...   \n3      术程顺利，，术后病理回报：腹水未见癌；（全子宫+两附件）送检子宫大小为10*6*4CM，宫腔...   \n4      于2011年10月11日、11月16日行TP（泰素+伯尔定）方案化疗2程，化疗后出现轻度恶心...   \n...                                                  ...   \n28928  2013年3月13日、2013年4月02日、2013年4月23日、2013年5月16日、20...   \n28929  2013-12-31，我院MDT会诊：结合患者外院CT，评估患者肿瘤进展PD，建议患者行XE...   \n28930  2013-12-31，我院MDT会诊：结合患者外院CT，评估患者肿瘤进展PD，建议患者行XE...   \n28931  2013-12-31，我院MDT会诊：结合患者外院CT，评估患者肿瘤进展PD，建议患者行XE...   \n28932  2013-12-31，我院MDT会诊：结合患者外院CT，评估患者肿瘤进展PD，建议患者行XE...   \n\n                                                BIO_anno  \n0      O O O O O O O O O O O O O O B-解剖部位 O O O O B-解...  \n1      O O O O O O O O O O B-手术 I-手术 I-手术 I-手术 I-手术 I...  \n2      O O O O O O O O O O O O O O O O O O O B-疾病和诊断 ...  \n3      O O O O O O O O O O O O O B-解剖部位 O O O O O O B...  \n4      O O O O O O O O O O O O O O O O O O O O O O O ...  \n...                                                  ...  \n28928  O O O O O O O O O O O O O O O O O O O O O O O ...  \n28929  O O O O O O O O O O O O O O O O O O O O O O O ...  \n28930  O O O O O O O O O O O O O O O O O O O O O O O ...  \n28931  O O O O O O O O O O O O O O O O O O O O O O O ...  \n28932  O O O O O O O O O O O O O O O O O O O O O O O ...  \n\n[28933 rows x 4 columns]",
      "text/html": "<div>\n<style scoped>\n    .dataframe tbody tr th:only-of-type {\n        vertical-align: middle;\n    }\n\n    .dataframe tbody tr th {\n        vertical-align: top;\n    }\n\n    .dataframe thead th {\n        text-align: right;\n    }\n</style>\n<table border=\"1\" class=\"dataframe\">\n  <thead>\n    <tr style=\"text-align: right;\">\n      <th></th>\n      <th>Unnamed: 0.1</th>\n      <th>Unnamed: 0</th>\n      <th>text</th>\n      <th>BIO_anno</th>\n    </tr>\n  </thead>\n  <tbody>\n    <tr>\n      <th>0</th>\n      <td>0</td>\n      <td>0.0</td>\n      <td>，患者2008年9月3日因“腹胀，发现腹部包块”在我院腹科行手术探查，术中见盆腹腔肿物，与肠...</td>\n      <td>O O O O O O O O O O O O O O B-解剖部位 O O O O B-解...</td>\n    </tr>\n    <tr>\n      <th>1</th>\n      <td>1</td>\n      <td>1.0</td>\n      <td>于2015-7-6行剖腹探查+膀胱旁肿物切除+骶前肿物切除+肠表面肿物切除术，术程顺利，，术...</td>\n      <td>O O O O O O O O O O B-手术 I-手术 I-手术 I-手术 I-手术 I...</td>\n    </tr>\n    <tr>\n      <th>2</th>\n      <td>2</td>\n      <td>2.0</td>\n      <td>，患者于2011年9月29日在我院因“子宫内膜癌II期”在全麻上行“广泛全子宫切除+两侧附件...</td>\n      <td>O O O O O O O O O O O O O O O O O O O B-疾病和诊断 ...</td>\n    </tr>\n    <tr>\n      <th>3</th>\n      <td>3</td>\n      <td>3.0</td>\n      <td>术程顺利，，术后病理回报：腹水未见癌；（全子宫+两附件）送检子宫大小为10*6*4CM，宫腔...</td>\n      <td>O O O O O O O O O O O O O B-解剖部位 O O O O O O B...</td>\n    </tr>\n    <tr>\n      <th>4</th>\n      <td>4</td>\n      <td>4.0</td>\n      <td>于2011年10月11日、11月16日行TP（泰素+伯尔定）方案化疗2程，化疗后出现轻度恶心...</td>\n      <td>O O O O O O O O O O O O O O O O O O O O O O O ...</td>\n    </tr>\n    <tr>\n      <th>...</th>\n      <td>...</td>\n      <td>...</td>\n      <td>...</td>\n      <td>...</td>\n    </tr>\n    <tr>\n      <th>28928</th>\n      <td>26228</td>\n      <td>NaN</td>\n      <td>2013年3月13日、2013年4月02日、2013年4月23日、2013年5月16日、20...</td>\n      <td>O O O O O O O O O O O O O O O O O O O O O O O ...</td>\n    </tr>\n    <tr>\n      <th>28929</th>\n      <td>26229</td>\n      <td>NaN</td>\n      <td>2013-12-31，我院MDT会诊：结合患者外院CT，评估患者肿瘤进展PD，建议患者行XE...</td>\n      <td>O O O O O O O O O O O O O O O O O O O O O O O ...</td>\n    </tr>\n    <tr>\n      <th>28930</th>\n      <td>26230</td>\n      <td>NaN</td>\n      <td>2013-12-31，我院MDT会诊：结合患者外院CT，评估患者肿瘤进展PD，建议患者行XE...</td>\n      <td>O O O O O O O O O O O O O O O O O O O O O O O ...</td>\n    </tr>\n    <tr>\n      <th>28931</th>\n      <td>26231</td>\n      <td>NaN</td>\n      <td>2013-12-31，我院MDT会诊：结合患者外院CT，评估患者肿瘤进展PD，建议患者行XE...</td>\n      <td>O O O O O O O O O O O O O O O O O O O O O O O ...</td>\n    </tr>\n    <tr>\n      <th>28932</th>\n      <td>26232</td>\n      <td>NaN</td>\n      <td>2013-12-31，我院MDT会诊：结合患者外院CT，评估患者肿瘤进展PD，建议患者行XE...</td>\n      <td>O O O O O O O O O O O O O O O O O O O O O O O ...</td>\n    </tr>\n  </tbody>\n</table>\n<p>28933 rows × 4 columns</p>\n</div>"
     },
     "execution_count": 7,
     "metadata": {},
     "output_type": "execute_result"
    }
   ],
   "source": [
    "import pandas as pd\n",
    "new_train = pd.read_csv('./data/new_train_ccks_2019_1216.csv')\n",
    "new_train"
   ],
   "metadata": {
    "collapsed": false,
    "ExecuteTime": {
     "end_time": "2023-12-18T06:51:42.711470400Z",
     "start_time": "2023-12-18T06:51:41.735061200Z"
    }
   },
   "id": "c4abd539ecd10f77"
  },
  {
   "cell_type": "code",
   "execution_count": 10,
   "outputs": [
    {
     "data": {
      "text/plain": "{'O': 0,\n 'B-解剖部位': 0,\n 'I-解剖部位': 0,\n 'B-手术': 0,\n 'I-手术': 0,\n 'B-疾病和诊断': 0,\n 'I-疾病和诊断': 0,\n 'B-影像检查': 0,\n 'I-影像检查': 0,\n 'B-药物': 0,\n 'I-药物': 0,\n 'B-实验室检验': 0,\n 'I-实验室检验': 0}"
     },
     "execution_count": 10,
     "metadata": {},
     "output_type": "execute_result"
    }
   ],
   "source": [
    "for key,value in map.items():\n",
    "    map[key] = 0\n",
    "map"
   ],
   "metadata": {
    "collapsed": false,
    "ExecuteTime": {
     "end_time": "2023-12-18T06:55:09.837471300Z",
     "start_time": "2023-12-18T06:55:09.779619500Z"
    }
   },
   "id": "6f24254e74cbe237"
  },
  {
   "cell_type": "code",
   "execution_count": 11,
   "outputs": [
    {
     "data": {
      "text/plain": "{'O': 4724889,\n 'B-解剖部位': 143332,\n 'I-解剖部位': 310077,\n 'B-手术': 18662,\n 'I-手术': 254802,\n 'B-疾病和诊断': 77207,\n 'I-疾病和诊断': 524928,\n 'B-影像检查': 17396,\n 'I-影像检查': 51175,\n 'B-药物': 24365,\n 'I-药物': 66785,\n 'B-实验室检验': 20270,\n 'I-实验室检验': 68599}"
     },
     "execution_count": 11,
     "metadata": {},
     "output_type": "execute_result"
    }
   ],
   "source": [
    "\n",
    "map_count = map\n",
    "for line, row in new_train.iterrows():\n",
    "  bioList = row['BIO_anno'].split(\" \")\n",
    "  for label in bioList:\n",
    "      if label in map:\n",
    "          map_count[label] += 1\n",
    "              \n",
    "map_count"
   ],
   "metadata": {
    "collapsed": false,
    "ExecuteTime": {
     "end_time": "2023-12-18T06:55:20.794980500Z",
     "start_time": "2023-12-18T06:55:17.645143600Z"
    }
   },
   "id": "f0154efd3a777717"
  }
 ],
 "metadata": {
  "kernelspec": {
   "display_name": "Python 3",
   "language": "python",
   "name": "python3"
  },
  "language_info": {
   "codemirror_mode": {
    "name": "ipython",
    "version": 2
   },
   "file_extension": ".py",
   "mimetype": "text/x-python",
   "name": "python",
   "nbconvert_exporter": "python",
   "pygments_lexer": "ipython2",
   "version": "2.7.6"
  }
 },
 "nbformat": 4,
 "nbformat_minor": 5
}
