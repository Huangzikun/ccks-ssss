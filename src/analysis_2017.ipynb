{
 "cells": [
  {
   "cell_type": "code",
   "execution_count": 1,
   "id": "initial_id",
   "metadata": {
    "collapsed": true,
    "ExecuteTime": {
     "end_time": "2023-11-11T05:45:37.160392300Z",
     "start_time": "2023-11-11T05:45:36.620487400Z"
    }
   },
   "outputs": [
    {
     "data": {
      "text/plain": "      Unnamed: 0                                               text  \\\n0              0  明，女性，26岁，河北省承德市滦平县人，现住河北省承德市双滦区御水花园，主因头部、腹部双下肢...   \n1              1  ，中年男性，32岁，生于河北省承德市，现住河北省承德市，主因左肘关节屈曲畸形14个月于201...   \n2              2  ，青年男性，25岁，河北省承德市双滦区人，现住河北省承德市双滦区三岔口御景家园，主因外伤后头...   \n3              3  神清语利，自动体位，查体合作。左、右上中切牙缺失，右上侧切牙松动、触痛，下唇右侧内黏膜挫伤，...   \n4              4            p；nbsp；右腰部疼痛伴发热12小时于2016--10--213：13收入院   \n...          ...                                                ...   \n1555        1555  患者入院后完善相关辅助检查，根据患者出现周身无力，纳差等恶病质表现，查体肝位于右侧季肋下2c...   \n1556        1556  患者入院后完善相关辅助检查，依据患者依据活动后胸闷、气短12年，间断喘憋2年，加重2天入院。...   \n1557        1557  入院后依据病史、症状、体征及辅助检查诊断为：1.颈椎病。2.高血压病。3.缺血性心肌病。入院...   \n1558        1558  依据患者病情、症状、体征及辅助检查诊断为：阵发性室上性心动过速。治疗上给予：1.予以内科II...   \n1559        1559  入院后检查各项辅助检查，据患者发作性胸痛，每次发作持续3-5分钟，休息或口服硝酸甘油可缓解，...   \n\n                                               BIO_anno  \n0     O O O O O O O O O O O O O O O O O O O O O O O ...  \n1     O O O O O O O O O O O O O O O O O O O O O O O ...  \n2     O O O O O O O O O O O O O O O O O O O O O O O ...  \n3     O O O O O O O O O O O O O O O B-body I-body I-...  \n4     O O O O O O O B-body I-body I-body B-symp I-sy...  \n...                                                 ...  \n1555  O O O O O O O O O O O O O O O O O O O O O O O ...  \n1556  O O O O O O O O O O O O O O O O O O O O O O O ...  \n1557  O O O O O O O O O O O O O O O O O O O O O O O ...  \n1558  O O O O O O O O O O O O O O O O O O O O O O O ...  \n1559  O O O O O O O O O O O O O O O O O O B-symp I-s...  \n\n[1560 rows x 3 columns]",
      "text/html": "<div>\n<style scoped>\n    .dataframe tbody tr th:only-of-type {\n        vertical-align: middle;\n    }\n\n    .dataframe tbody tr th {\n        vertical-align: top;\n    }\n\n    .dataframe thead th {\n        text-align: right;\n    }\n</style>\n<table border=\"1\" class=\"dataframe\">\n  <thead>\n    <tr style=\"text-align: right;\">\n      <th></th>\n      <th>Unnamed: 0</th>\n      <th>text</th>\n      <th>BIO_anno</th>\n    </tr>\n  </thead>\n  <tbody>\n    <tr>\n      <th>0</th>\n      <td>0</td>\n      <td>明，女性，26岁，河北省承德市滦平县人，现住河北省承德市双滦区御水花园，主因头部、腹部双下肢...</td>\n      <td>O O O O O O O O O O O O O O O O O O O O O O O ...</td>\n    </tr>\n    <tr>\n      <th>1</th>\n      <td>1</td>\n      <td>，中年男性，32岁，生于河北省承德市，现住河北省承德市，主因左肘关节屈曲畸形14个月于201...</td>\n      <td>O O O O O O O O O O O O O O O O O O O O O O O ...</td>\n    </tr>\n    <tr>\n      <th>2</th>\n      <td>2</td>\n      <td>，青年男性，25岁，河北省承德市双滦区人，现住河北省承德市双滦区三岔口御景家园，主因外伤后头...</td>\n      <td>O O O O O O O O O O O O O O O O O O O O O O O ...</td>\n    </tr>\n    <tr>\n      <th>3</th>\n      <td>3</td>\n      <td>神清语利，自动体位，查体合作。左、右上中切牙缺失，右上侧切牙松动、触痛，下唇右侧内黏膜挫伤，...</td>\n      <td>O O O O O O O O O O O O O O O B-body I-body I-...</td>\n    </tr>\n    <tr>\n      <th>4</th>\n      <td>4</td>\n      <td>p；nbsp；右腰部疼痛伴发热12小时于2016--10--213：13收入院</td>\n      <td>O O O O O O O B-body I-body I-body B-symp I-sy...</td>\n    </tr>\n    <tr>\n      <th>...</th>\n      <td>...</td>\n      <td>...</td>\n      <td>...</td>\n    </tr>\n    <tr>\n      <th>1555</th>\n      <td>1555</td>\n      <td>患者入院后完善相关辅助检查，根据患者出现周身无力，纳差等恶病质表现，查体肝位于右侧季肋下2c...</td>\n      <td>O O O O O O O O O O O O O O O O O O O O O O O ...</td>\n    </tr>\n    <tr>\n      <th>1556</th>\n      <td>1556</td>\n      <td>患者入院后完善相关辅助检查，依据患者依据活动后胸闷、气短12年，间断喘憋2年，加重2天入院。...</td>\n      <td>O O O O O O O O O O O O O O O O O O O O O O O ...</td>\n    </tr>\n    <tr>\n      <th>1557</th>\n      <td>1557</td>\n      <td>入院后依据病史、症状、体征及辅助检查诊断为：1.颈椎病。2.高血压病。3.缺血性心肌病。入院...</td>\n      <td>O O O O O O O O O O O O O O O O O O O O O O O ...</td>\n    </tr>\n    <tr>\n      <th>1558</th>\n      <td>1558</td>\n      <td>依据患者病情、症状、体征及辅助检查诊断为：阵发性室上性心动过速。治疗上给予：1.予以内科II...</td>\n      <td>O O O O O O O O O O O O O O O O O O O O O O O ...</td>\n    </tr>\n    <tr>\n      <th>1559</th>\n      <td>1559</td>\n      <td>入院后检查各项辅助检查，据患者发作性胸痛，每次发作持续3-5分钟，休息或口服硝酸甘油可缓解，...</td>\n      <td>O O O O O O O O O O O O O O O O O O B-symp I-s...</td>\n    </tr>\n  </tbody>\n</table>\n<p>1560 rows × 3 columns</p>\n</div>"
     },
     "execution_count": 1,
     "metadata": {},
     "output_type": "execute_result"
    }
   ],
   "source": [
    "import pandas as pd\n",
    "df = pd.read_csv('./data/ccks_2017_train.csv')\n",
    "df"
   ]
  },
  {
   "cell_type": "code",
   "execution_count": 2,
   "outputs": [
    {
     "name": "stdout",
     "output_type": "stream",
     "text": [
      "smart_open library not found; falling back to local-filesystem-only\n"
     ]
    },
    {
     "name": "stderr",
     "output_type": "stream",
     "text": [
      "Building prefix dict from F:\\anaconda\\envs\\pytorch\\lib\\site-packages\\synonyms\\data\\vocab.txt ...\n",
      "Loading model from cache C:\\Users\\RL\\AppData\\Local\\Temp\\jieba.u3ae10c8cd5d0de0e22f93d188f2f8e5b.cache\n"
     ]
    },
    {
     "name": "stdout",
     "output_type": "stream",
     "text": [
      "\n",
      " Synonyms: v3.20.0, Project home: https://github.com/chatopera/Synonyms/\n",
      "\n",
      " Project Sponsored by Chatopera\n",
      "\n",
      "  deliver your chatbots with Chatopera Cloud Services --> https://bot.chatopera.com\n",
      "\n",
      ">> Synonyms load wordseg dict [F:\\anaconda\\envs\\pytorch\\lib\\site-packages\\synonyms\\data\\vocab.txt] ... \n"
     ]
    },
    {
     "name": "stderr",
     "output_type": "stream",
     "text": [
      "Loading model cost 1.237 seconds.\n",
      "Prefix dict has been built successfully.\n"
     ]
    },
    {
     "name": "stdout",
     "output_type": "stream",
     "text": [
      ">> Synonyms on loading stopwords [F:\\anaconda\\envs\\pytorch\\lib\\site-packages\\synonyms\\data\\stopwords.txt] ...\n",
      ">> Synonyms on loading vectors [F:\\anaconda\\envs\\pytorch\\lib\\site-packages\\synonyms\\data\\words.vector.gz] ...\n"
     ]
    },
    {
     "data": {
      "text/plain": "['直肠癌', '低位', '前', '切除术']"
     },
     "execution_count": 2,
     "metadata": {},
     "output_type": "execute_result"
    }
   ],
   "source": [
    "import synonyms\n",
    "import jieba\n",
    "\n",
    "jieba.lcut('直肠癌低位前切除术')"
   ],
   "metadata": {
    "collapsed": false,
    "ExecuteTime": {
     "end_time": "2023-11-11T05:45:59.877777700Z",
     "start_time": "2023-11-11T05:45:38.075326300Z"
    }
   },
   "id": "c6c3c6b2c5a21f0d"
  },
  {
   "cell_type": "code",
   "execution_count": 3,
   "outputs": [
    {
     "data": {
      "text/plain": "(['切除术', '切除'], [1.0, 0.7716973])"
     },
     "execution_count": 3,
     "metadata": {},
     "output_type": "execute_result"
    }
   ],
   "source": [
    "synlst = synonyms.nearby('切除术', 2)\n",
    "synlst"
   ],
   "metadata": {
    "collapsed": false,
    "ExecuteTime": {
     "end_time": "2023-11-11T05:46:00.115335600Z",
     "start_time": "2023-11-11T05:45:59.874281400Z"
    }
   },
   "id": "d1dfd26d5603595a"
  },
  {
   "cell_type": "code",
   "execution_count": 7,
   "outputs": [
    {
     "name": "stdout",
     "output_type": "stream",
     "text": [
      "疼痛\n",
      "['B-symp', 'I-symp']\n",
      "O O O O B-symp I-symp O O O O O O O O O O O O O O O O O O O O O O O O O O\n",
      "右侧腰部疼痛10余天于2016--09--0510：45收入院。\n"
     ]
    }
   ],
   "source": [
    "line = df.loc[6]\n",
    "bio = line['BIO_anno']\n",
    "\n",
    "start = 0\n",
    "end = 0\n",
    "bio_list = bio.split(' ')\n",
    "for idx in range(len(bio_list)):\n",
    "    if 'B-' in bio_list[idx]:\n",
    "        start = idx\n",
    "    if start != 0 and bio_list[idx] == 'O':\n",
    "        end = idx\n",
    "        print(line['text'][start:end])\n",
    "        print(bio_list[start:end])\n",
    "        start = end = 0\n",
    "\n",
    "print(bio)\n",
    "print(line['text'])"
   ],
   "metadata": {
    "collapsed": false,
    "ExecuteTime": {
     "end_time": "2023-11-11T05:41:41.210337500Z",
     "start_time": "2023-11-11T05:41:41.184411500Z"
    }
   },
   "id": "84b989c99856b1f1"
  },
  {
   "cell_type": "code",
   "execution_count": 20,
   "outputs": [
    {
     "data": {
      "text/plain": "{'B-body': 9114,\n 'B-symp': 8236,\n 'B-chec': 11163,\n 'B-dise': 1462,\n 'B-cure': 3210}"
     },
     "execution_count": 20,
     "metadata": {},
     "output_type": "execute_result"
    }
   ],
   "source": [
    "type_count = {\n",
    "    'B-body': 0,\n",
    "    'B-symp': 0,\n",
    "    'B-chec': 0,\n",
    "    'B-dise': 0,\n",
    "    'B-cure': 0,\n",
    "}\n",
    "type_enum = {\n",
    "    'B-body': [],\n",
    "    'B-symp': [],\n",
    "    'B-chec': [],\n",
    "    'B-dise': [],\n",
    "    'B-cure': [],\n",
    "}\n",
    "\n",
    "\n",
    "for index, row in df.iterrows():\n",
    "    start = 0\n",
    "    end = 0\n",
    "    \n",
    "    bio = row['BIO_anno']\n",
    "    bio_list = bio.split(' ')\n",
    "    for idx in range(len(bio_list)):\n",
    "        if 'B-' in bio_list[idx]:\n",
    "            start = idx\n",
    "        if start != 0 and bio_list[idx] == 'O':\n",
    "            end = idx\n",
    "            type_count[bio_list[start]] += 1\n",
    "            if bio_list[start:end] not in type_enum[bio_list[start]]:\n",
    "               type_enum[bio_list[start]].append(row['text'][start:end])\n",
    "            \n",
    "            start = end = 0\n",
    "\n",
    "type_count"
   ],
   "metadata": {
    "collapsed": false,
    "ExecuteTime": {
     "end_time": "2023-11-11T06:03:51.052437700Z",
     "start_time": "2023-11-11T06:03:47.858696800Z"
    }
   },
   "id": "1a2eadd67f48a74e"
  }
 ],
 "metadata": {
  "kernelspec": {
   "display_name": "Python 3",
   "language": "python",
   "name": "python3"
  },
  "language_info": {
   "codemirror_mode": {
    "name": "ipython",
    "version": 2
   },
   "file_extension": ".py",
   "mimetype": "text/x-python",
   "name": "python",
   "nbconvert_exporter": "python",
   "pygments_lexer": "ipython2",
   "version": "2.7.6"
  }
 },
 "nbformat": 4,
 "nbformat_minor": 5
}
