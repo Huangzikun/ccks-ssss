{
 "cells": [
  {
   "cell_type": "code",
   "id": "initial_id",
   "metadata": {
    "collapsed": true,
    "ExecuteTime": {
     "end_time": "2024-08-23T06:18:49.781128Z",
     "start_time": "2024-08-23T06:18:49.760560Z"
    }
   },
   "source": [
    "import pandas as pd\n",
    "import torch\n",
    "\n",
    "torch.cuda.current_device()\n",
    "from torch import optim\n",
    "from torch.utils.data import DataLoader\n",
    "from tqdm import tqdm\n",
    "from transformers import AutoTokenizer, BertTokenizer\n",
    "from seqeval.metrics import f1_score\n",
    "\n",
    "# 路径\n",
    "TRAIN_PATH = '../data/ccks_2019_train_split.csv'\n",
    "TEST_PATH = '../data/ccks_2019_test_split.csv'\n",
    "MODEL_PATH1 = '../model/'\n",
    "MODEL_PATH2 = '../model/'\n",
    "MODEL_PATH_MAC = '../model/'\n",
    "MODEL_LOCAL_PATH = '../RoBERTa_zh_L12_PyTorch'\n",
    "\n",
    "# 超参数\n",
    "MAX_LEN = 256\n",
    "BATCH_SIZE = 32\n",
    "EPOCH = 50\n",
    "\n",
    "# 预设\n",
    "# 设备\n",
    "DEVICE = \"cuda:0\" if torch.cuda.is_available() else \"cpu\"\n",
    "# tag2index\n",
    "tag2index = {'O': 0,\n",
    " 'B-解剖部位': 1,\n",
    " 'I-解剖部位': 2,\n",
    " 'B-手术': 3,\n",
    " 'I-手术': 4,\n",
    " 'B-疾病和诊断': 5,\n",
    " 'I-疾病和诊断': 6,\n",
    " 'B-影像检查': 7,\n",
    " 'I-影像检查': 8,\n",
    " 'B-药物': 9,\n",
    " 'I-药物': 10,\n",
    " 'B-实验室检验': 11,\n",
    " 'I-实验室检验': 12}\n",
    "index2tag = {v: k for k, v in tag2index.items()}\n"
   ],
   "outputs": [],
   "execution_count": 29
  },
  {
   "cell_type": "code",
   "source": [
    "# 预处理\n",
    "def data_preprocessing(dataset, is_train):\n",
    "    # 数据str转化为list\n",
    "    dataset['text_split'] = dataset['text'].apply(list)\n",
    "    # token\n",
    "    tokenizer = BertTokenizer.from_pretrained(MODEL_LOCAL_PATH)\n",
    "    texts = dataset['text_split'].array.tolist()\n",
    "    token_texts = []\n",
    "    for text in tqdm(texts):\n",
    "        tokenized = tokenizer.encode_plus(text=text,\n",
    "                                          max_length=MAX_LEN,\n",
    "                                          return_token_type_ids=True,\n",
    "                                          return_attention_mask=True,\n",
    "                                          return_tensors='pt',\n",
    "                                          padding='max_length',\n",
    "                                          truncation=True)\n",
    "        token_texts.append(tokenized)\n",
    "\n",
    "    # 训练集有tag，测试集没有tag\n",
    "    tags = None\n",
    "    if is_train:\n",
    "        dataset['tag'] = dataset['BIO_anno'].apply(lambda x: x.split(sep=' '))\n",
    "        tags = []\n",
    "        for tag in tqdm(dataset['tag'].array.tolist()):\n",
    "            index_list = [0] + [tag2index[t] for t in tag] + [0]\n",
    "            if len(index_list) < MAX_LEN:  # 填充\n",
    "                pad_length = MAX_LEN - len(index_list)\n",
    "                index_list += [tag2index['O']] * pad_length\n",
    "            if len(index_list) > MAX_LEN:  # 裁剪\n",
    "                index_list = index_list[:MAX_LEN-1] + [0]\n",
    "            tags.append(index_list)\n",
    "        tags = torch.LongTensor(tags)\n",
    "\n",
    "    return token_texts, tags\n"
   ],
   "metadata": {
    "collapsed": false,
    "ExecuteTime": {
     "end_time": "2024-08-23T06:18:50.421392Z",
     "start_time": "2024-08-23T06:18:50.412416Z"
    }
   },
   "id": "c4522a7e089abd42",
   "outputs": [],
   "execution_count": 30
  },
  {
   "cell_type": "code",
   "source": [
    "import torch\n",
    "from torch import nn\n",
    "from torchcrf import CRF\n",
    "from transformers import BertModel\n",
    "from torch.utils.data import Dataset\n",
    "\n",
    "\n",
    "class Bert_BiLSTM_CRF(nn.Module):\n",
    "    def __init__(self, tag2index):\n",
    "        super(Bert_BiLSTM_CRF, self).__init__()\n",
    "        self.tagset_size = len(tag2index)\n",
    "\n",
    "        # bert层\n",
    "        self.bert = BertModel.from_pretrained(MODEL_LOCAL_PATH)\n",
    "        # config = self.bert.config\n",
    "        # lstm层\n",
    "        self.lstm = nn.LSTM(input_size=768, hidden_size=128, num_layers=1, batch_first=True, bidirectional=True)\n",
    "        # dropout层\n",
    "        self.dropout = nn.Dropout(p=0.1)\n",
    "        # Dense层\n",
    "        self.dense = nn.Linear(in_features=256, out_features=self.tagset_size)\n",
    "        # CRF层\n",
    "        self.crf = CRF(num_tags=self.tagset_size)\n",
    "\n",
    "        # 隐藏层\n",
    "        self.hidden = None\n",
    "\n",
    "    # 负对数似然损失函数\n",
    "    def neg_log_likelihood(self, emissions, tags=None, mask=None, reduction=None):\n",
    "        return -1 * self.crf(emissions=emissions, tags=tags, mask=mask, reduction=reduction)\n",
    "\n",
    "    def forward(self, token_texts, tags):\n",
    "        \"\"\"\n",
    "        token_texts:{\"input_size\": tensor,  [batch, 1, seq_len]->[batch, seq_len]\n",
    "                    \"token_type_ids\": tensor,  [batch, 1, seq_len]->[batch, seq_len]\n",
    "                     \"attention_mask\": tensor  [batch, 1, seq_len]->[batch, seq_len]->[seq_len, batch]\n",
    "                     }\n",
    "        tags:  [batch, seq_len]->[seq_len, batch]\n",
    "        bert_out:  [batch, seq_len, hidden_size(768)]->[seq_len, batch, hidden_size]\n",
    "        self.hidden:  [num_layers * num_directions, hidden_size(128)]\n",
    "        out:  [seq_len, batch, hidden_size * 2(256)]\n",
    "        lstm_feats:  [seq_len, batch, tagset_size]\n",
    "        loss:  tensor\n",
    "        predictions:  [batch, num]\n",
    "        \"\"\"\n",
    "        texts, token_type_ids, masks = token_texts['input_ids'], token_texts['token_type_ids'], token_texts['attention_mask']\n",
    "        texts = texts.squeeze(1)\n",
    "        token_type_ids = token_type_ids.squeeze(1)\n",
    "        masks = masks.squeeze(1)\n",
    "        bert_out = self.bert(input_ids=texts, attention_mask=masks, token_type_ids=token_type_ids)[0]\n",
    "        bert_out = bert_out.permute(1, 0, 2)\n",
    "        # 检测设备\n",
    "        device = bert_out.device\n",
    "        # 初始化隐藏层参数\n",
    "        self.hidden = (torch.randn(2, bert_out.size(0), 128).to(device),\n",
    "                       torch.randn(2, bert_out.size(0), 128).to(device))\n",
    "        out, self.hidden = self.lstm(bert_out, self.hidden)\n",
    "        lstm_feats = self.dense(out)\n",
    "\n",
    "        # 格式转换\n",
    "        masks = masks.permute(1, 0)\n",
    "        masks = masks.clone().detach().bool()\n",
    "        # masks = torch.tensor(masks, dtype=torch.uint8)\n",
    "        # 计算损失值和预测值\n",
    "        if tags is not None:\n",
    "            tags = tags.permute(1, 0)\n",
    "            loss = self.neg_log_likelihood(lstm_feats, tags, masks, 'mean')\n",
    "            predictions = self.crf.decode(emissions=lstm_feats, mask=masks)  # [batch, 任意数]\n",
    "            return loss, predictions\n",
    "        else:\n",
    "            predictions = self.crf.decode(emissions=lstm_feats, mask=masks)\n",
    "            return predictions"
   ],
   "metadata": {
    "collapsed": false,
    "ExecuteTime": {
     "end_time": "2024-08-23T06:18:50.861281Z",
     "start_time": "2024-08-23T06:18:50.846321Z"
    }
   },
   "id": "14c2742ce1626da1",
   "outputs": [],
   "execution_count": 31
  },
  {
   "cell_type": "code",
   "source": [
    "class NerDataset(Dataset):\n",
    "    def __init__(self, token_texts, tags):\n",
    "        super(NerDataset, self).__init__()\n",
    "        self.token_texts = token_texts\n",
    "        self.tags = tags\n",
    "\n",
    "    def __getitem__(self, index):\n",
    "        return {\n",
    "            \"token_texts\": self.token_texts[index],\n",
    "            \"tags\": self.tags[index] if self.tags is not None else None,\n",
    "        }\n",
    "\n",
    "    def __len__(self):\n",
    "        return len(self.token_texts)\n",
    "\n",
    "\n",
    "class NerDatasetTest(Dataset):\n",
    "    def __init__(self, token_texts):\n",
    "        super(NerDatasetTest, self).__init__()\n",
    "        self.token_texts = token_texts\n",
    "\n",
    "    def __getitem__(self, index):\n",
    "        return {\n",
    "            \"token_texts\": self.token_texts[index],\n",
    "            \"tags\": 0\n",
    "        }\n",
    "\n",
    "    def __len__(self):\n",
    "        return len(self.token_texts)"
   ],
   "metadata": {
    "collapsed": false,
    "ExecuteTime": {
     "end_time": "2024-08-23T06:18:51.301717Z",
     "start_time": "2024-08-23T06:18:51.286757Z"
    }
   },
   "id": "7d8cd595fd5565ea",
   "outputs": [],
   "execution_count": 32
  },
  {
   "cell_type": "code",
   "source": [
    "from torch import nn\n",
    "from torchcrf import CRF\n",
    "from transformers import BertModel\n",
    "\n",
    "\n",
    "class Bert_CRF(nn.Module):\n",
    "    def __init__(self, tag2index):\n",
    "        super(Bert_CRF, self).__init__()\n",
    "        self.tagset_size = len(tag2index)\n",
    "\n",
    "        # bert层\n",
    "        self.bert = BertModel.from_pretrained(MODEL_LOCAL_PATH)\n",
    "        # dense层\n",
    "        self.dense = nn.Linear(in_features=768, out_features=self.tagset_size)\n",
    "        # CRF层\n",
    "        self.crf = CRF(num_tags=self.tagset_size)\n",
    "\n",
    "        # 隐藏层\n",
    "        self.hidden = None\n",
    "\n",
    "    def neg_log_likelihood(self, emissions, tags=None, mask=None, reduction=None):\n",
    "        return -1 * self.crf(emissions=emissions, tags=tags, mask=mask, reduction=reduction)\n",
    "\n",
    "    def forward(self, token_texts, tags):\n",
    "        \"\"\"\n",
    "        token_texts:{\"input_size\": tensor,  [batch, 1, seq_len]->[batch, seq_len]\n",
    "                    \"token_type_ids\": tensor,  [batch, 1, seq_len]->[batch, seq_len]\n",
    "                     \"attention_mask\": tensor  [batch, 1, seq_len]->[batch, seq_len]->[seq_len, batch]\n",
    "                     }\n",
    "        tags:  [batch, seq_len]->[seq_len, batch]\n",
    "        bert_out:  [batch, seq_len, hidden_size(768)]->[seq_len, batch, hidden_size]\n",
    "        feats:  [seq_len, batch, tagset_size]\n",
    "        loss:  tensor\n",
    "        predictions:  [batch, num]\n",
    "        \"\"\"\n",
    "        texts, token_type_ids, masks = token_texts.values()\n",
    "        texts = texts.squeeze(1)\n",
    "        token_type_ids = token_type_ids.squeeze(1)\n",
    "        masks = masks.squeeze(1)\n",
    "        bert_out = self.bert(input_ids=texts, attention_mask=masks, token_type_ids=token_type_ids)[0]\n",
    "        bert_out = bert_out.permute(1, 0, 2)\n",
    "        feats = self.dense(bert_out)\n",
    "\n",
    "        # 格式转换\n",
    "        masks = masks.permute(1, 0)\n",
    "        masks = masks.clone().detach().bool()\n",
    "        # 计算损失之和预测值\n",
    "        if tags is not None:\n",
    "            tags = tags.permute(1, 0)\n",
    "            loss = self.neg_log_likelihood(feats, tags, masks, 'mean')\n",
    "            predictions = self.crf.decode(emissions=feats, mask=masks)\n",
    "            return loss, predictions\n",
    "        else:\n",
    "            predictions = self.crf.decode(emissions=feats, mask=masks)\n",
    "            return predictions\n",
    "\n"
   ],
   "metadata": {
    "collapsed": false,
    "ExecuteTime": {
     "end_time": "2024-08-23T06:18:51.687505Z",
     "start_time": "2024-08-23T06:18:51.674539Z"
    }
   },
   "id": "7ae5a50551b06903",
   "outputs": [],
   "execution_count": 33
  },
  {
   "cell_type": "code",
   "source": [
    "from seqeval.metrics import accuracy_score\n",
    "from seqeval.metrics import precision_score, recall_score\n",
    "\n",
    "# 计算f1值\n",
    "def get_f1_score(tags, predictions):\n",
    "    tags = tags.to('cpu').data.numpy().tolist()\n",
    "    temp_tags = []\n",
    "    final_tags = []\n",
    "\n",
    "    int_tags = []\n",
    "    f_int_tags = []\n",
    "    predictions_int = []\n",
    "    for index in range(len(predictions)):\n",
    "        # predictions先去掉头，再去掉尾\n",
    "        predictions[index].pop()\n",
    "        length = len(predictions[index])\n",
    "        temp_tags.append(tags[index][1:length])\n",
    "        int_tags.append(tags[index][1:length])\n",
    "\n",
    "        predictions[index].pop(0)\n",
    "        predictions_int = predictions.copy()\n",
    "        # 格式转化，转化为List(str)\n",
    "        temp_tags[index] = [index2tag[x] for x in temp_tags[index]]\n",
    "        predictions[index] = [index2tag[x] for x in predictions[index]]\n",
    "\n",
    "        final_tags.append(temp_tags[index])\n",
    "        f_int_tags.append(int_tags[index])\n",
    "\n",
    "\n",
    "    f1 = f1_score(final_tags, predictions, average='micro')\n",
    "    precision = 0\n",
    "    predcision = precision_score(final_tags, predictions)\n",
    "    recall =  recall_score(final_tags, predictions)\n",
    "\n",
    "    return {\n",
    "        'recall': recall,\n",
    "        'predcision': predcision,\n",
    "        'micro_f1': f1,\n",
    "    }"
   ],
   "metadata": {
    "collapsed": false,
    "ExecuteTime": {
     "end_time": "2024-08-23T06:18:52.172281Z",
     "start_time": "2024-08-23T06:18:52.154329Z"
    }
   },
   "id": "fe6206cea9bdbc83",
   "outputs": [],
   "execution_count": 34
  },
  {
   "cell_type": "code",
   "source": [
    "# 训练\n",
    "def train(train_dataloader, model, optimizer, epoch):\n",
    "    for i, batch_data in enumerate(train_dataloader):\n",
    "        token_texts = batch_data['token_texts'].to(DEVICE)\n",
    "        tags = batch_data['tags'].to(DEVICE)\n",
    "        loss, predictions = model(token_texts, tags)\n",
    "        optimizer.zero_grad()\n",
    "        loss.backward()\n",
    "        optimizer.step()\n",
    "\n",
    "        if i % 500 == 0:\n",
    "            f1_obj = get_f1_score(tags, predictions)\n",
    "            micro_f1 = f1_obj['micro_f1']\n",
    "            predcision = f1_obj['predcision']\n",
    "            recall = f1_obj['recall']\n",
    "            print(f'Epoch:{epoch} | i:{i} | loss:{loss.item()} | Micro_F1:{micro_f1} | predcision: {predcision} | recall: {recall}')\n",
    "\n"
   ],
   "metadata": {
    "collapsed": false,
    "ExecuteTime": {
     "end_time": "2024-08-23T06:18:52.898496Z",
     "start_time": "2024-08-23T06:18:52.879547Z"
    }
   },
   "id": "6e495d1a7ab4c19a",
   "outputs": [],
   "execution_count": 35
  },
  {
   "cell_type": "code",
   "source": [
    "train_dataset = pd.read_csv(TRAIN_PATH, encoding='utf8')\n",
    "train_dataset"
   ],
   "metadata": {
    "collapsed": false,
    "ExecuteTime": {
     "end_time": "2024-08-22T19:27:31.828250Z",
     "start_time": "2024-08-22T19:27:31.528238Z"
    }
   },
   "id": "f4626d8c7c2ebf45",
   "outputs": [
    {
     "data": {
      "text/plain": [
       "      Unnamed: 0                                               text  \\\n",
       "0              0  ，患者2008年9月3日因“腹胀，发现腹部包块”在我院腹科行手术探查，术中见盆腹腔肿物，与肠...   \n",
       "1              1  于2015-7-6行剖腹探查+膀胱旁肿物切除+骶前肿物切除+肠表面肿物切除术，术程顺利，，术...   \n",
       "2              2  ，患者于2011年9月29日在我院因“子宫内膜癌II期”在全麻上行“广泛全子宫切除+两侧附件...   \n",
       "3              3  术程顺利，，术后病理回报：腹水未见癌；（全子宫+两附件）送检子宫大小为10*6*4CM，宫腔...   \n",
       "4              4  于2011年10月11日、11月16日行TP（泰素+伯尔定）方案化疗2程，化疗后出现轻度恶心...   \n",
       "...          ...                                                ...   \n",
       "2695        2738  ，患者1月前体检发现直肠肿物，，外院肠镜提示：直肠距肛门5-9CM肿物，，活检病理：腺癌，完...   \n",
       "2696        2739  腹泻 1度，皮肤反应1度，恶心0度，乏力1度，泌尿系0度，骨髓抑制0度,2016-6-2继续...   \n",
       "2697        2740  ，患者2012-05-25前因“便血3月余”入院，经肠镜及病理检查确诊乙状结肠腺癌。外院影像...   \n",
       "2698        2741  2013年3月13日、2013年4月02日、2013年4月23日、2013年5月16日、20...   \n",
       "2699        2742  2013-12-31，我院MDT会诊：结合患者外院CT，评估患者肿瘤进展PD，建议患者行XE...   \n",
       "\n",
       "                                               BIO_anno  \n",
       "0     O O O O O O O O O O O O O O B-解剖部位 O O O O B-解...  \n",
       "1     O O O O O O O O O O B-手术 I-手术 I-手术 I-手术 I-手术 I...  \n",
       "2     O O O O O O O O O O O O O O O O O O O B-疾病和诊断 ...  \n",
       "3     O O O O O O O O O O O O O B-解剖部位 O O O O O O B...  \n",
       "4     O O O O O O O O O O O O O O O O O O O O O O O ...  \n",
       "...                                                 ...  \n",
       "2695  O O O O O O O O O O B-解剖部位 I-解剖部位 O O O O O O ...  \n",
       "2696  B-解剖部位 O O O O O O O O O O O O O O O O O O O O...  \n",
       "2697  O O O O O O O O O O O O O O O O O O O O O O O ...  \n",
       "2698  O O O O O O O O O O O O O O O O O O O O O O O ...  \n",
       "2699  O O O O O O O O O O O O O O O O O O O O O O O ...  \n",
       "\n",
       "[2700 rows x 3 columns]"
      ],
      "text/html": [
       "<div>\n",
       "<style scoped>\n",
       "    .dataframe tbody tr th:only-of-type {\n",
       "        vertical-align: middle;\n",
       "    }\n",
       "\n",
       "    .dataframe tbody tr th {\n",
       "        vertical-align: top;\n",
       "    }\n",
       "\n",
       "    .dataframe thead th {\n",
       "        text-align: right;\n",
       "    }\n",
       "</style>\n",
       "<table border=\"1\" class=\"dataframe\">\n",
       "  <thead>\n",
       "    <tr style=\"text-align: right;\">\n",
       "      <th></th>\n",
       "      <th>Unnamed: 0</th>\n",
       "      <th>text</th>\n",
       "      <th>BIO_anno</th>\n",
       "    </tr>\n",
       "  </thead>\n",
       "  <tbody>\n",
       "    <tr>\n",
       "      <th>0</th>\n",
       "      <td>0</td>\n",
       "      <td>，患者2008年9月3日因“腹胀，发现腹部包块”在我院腹科行手术探查，术中见盆腹腔肿物，与肠...</td>\n",
       "      <td>O O O O O O O O O O O O O O B-解剖部位 O O O O B-解...</td>\n",
       "    </tr>\n",
       "    <tr>\n",
       "      <th>1</th>\n",
       "      <td>1</td>\n",
       "      <td>于2015-7-6行剖腹探查+膀胱旁肿物切除+骶前肿物切除+肠表面肿物切除术，术程顺利，，术...</td>\n",
       "      <td>O O O O O O O O O O B-手术 I-手术 I-手术 I-手术 I-手术 I...</td>\n",
       "    </tr>\n",
       "    <tr>\n",
       "      <th>2</th>\n",
       "      <td>2</td>\n",
       "      <td>，患者于2011年9月29日在我院因“子宫内膜癌II期”在全麻上行“广泛全子宫切除+两侧附件...</td>\n",
       "      <td>O O O O O O O O O O O O O O O O O O O B-疾病和诊断 ...</td>\n",
       "    </tr>\n",
       "    <tr>\n",
       "      <th>3</th>\n",
       "      <td>3</td>\n",
       "      <td>术程顺利，，术后病理回报：腹水未见癌；（全子宫+两附件）送检子宫大小为10*6*4CM，宫腔...</td>\n",
       "      <td>O O O O O O O O O O O O O B-解剖部位 O O O O O O B...</td>\n",
       "    </tr>\n",
       "    <tr>\n",
       "      <th>4</th>\n",
       "      <td>4</td>\n",
       "      <td>于2011年10月11日、11月16日行TP（泰素+伯尔定）方案化疗2程，化疗后出现轻度恶心...</td>\n",
       "      <td>O O O O O O O O O O O O O O O O O O O O O O O ...</td>\n",
       "    </tr>\n",
       "    <tr>\n",
       "      <th>...</th>\n",
       "      <td>...</td>\n",
       "      <td>...</td>\n",
       "      <td>...</td>\n",
       "    </tr>\n",
       "    <tr>\n",
       "      <th>2695</th>\n",
       "      <td>2738</td>\n",
       "      <td>，患者1月前体检发现直肠肿物，，外院肠镜提示：直肠距肛门5-9CM肿物，，活检病理：腺癌，完...</td>\n",
       "      <td>O O O O O O O O O O B-解剖部位 I-解剖部位 O O O O O O ...</td>\n",
       "    </tr>\n",
       "    <tr>\n",
       "      <th>2696</th>\n",
       "      <td>2739</td>\n",
       "      <td>腹泻 1度，皮肤反应1度，恶心0度，乏力1度，泌尿系0度，骨髓抑制0度,2016-6-2继续...</td>\n",
       "      <td>B-解剖部位 O O O O O O O O O O O O O O O O O O O O...</td>\n",
       "    </tr>\n",
       "    <tr>\n",
       "      <th>2697</th>\n",
       "      <td>2740</td>\n",
       "      <td>，患者2012-05-25前因“便血3月余”入院，经肠镜及病理检查确诊乙状结肠腺癌。外院影像...</td>\n",
       "      <td>O O O O O O O O O O O O O O O O O O O O O O O ...</td>\n",
       "    </tr>\n",
       "    <tr>\n",
       "      <th>2698</th>\n",
       "      <td>2741</td>\n",
       "      <td>2013年3月13日、2013年4月02日、2013年4月23日、2013年5月16日、20...</td>\n",
       "      <td>O O O O O O O O O O O O O O O O O O O O O O O ...</td>\n",
       "    </tr>\n",
       "    <tr>\n",
       "      <th>2699</th>\n",
       "      <td>2742</td>\n",
       "      <td>2013-12-31，我院MDT会诊：结合患者外院CT，评估患者肿瘤进展PD，建议患者行XE...</td>\n",
       "      <td>O O O O O O O O O O O O O O O O O O O O O O O ...</td>\n",
       "    </tr>\n",
       "  </tbody>\n",
       "</table>\n",
       "<p>2700 rows × 3 columns</p>\n",
       "</div>"
      ]
     },
     "execution_count": 16,
     "metadata": {},
     "output_type": "execute_result"
    }
   ],
   "execution_count": 16
  },
  {
   "cell_type": "code",
   "execution_count": 9,
   "outputs": [
    {
     "name": "stderr",
     "output_type": "stream",
     "text": [
      "100%|██████████| 28933/28933 [00:13<00:00, 2216.88it/s]\n",
      "100%|██████████| 28933/28933 [00:00<00:00, 39340.77it/s]\n"
     ]
    },
    {
     "data": {
      "text/plain": "tensor([0, 0, 0, 0, 0, 0, 0, 0, 0, 0, 0, 0, 0, 0, 0, 0, 1, 0, 0, 0, 0, 0, 0, 0,\n        0, 0, 0, 0, 0, 0, 0, 0, 0, 0, 0, 0, 0, 0, 0, 0, 0, 0, 0, 0, 0, 1, 0, 0,\n        0, 0, 0, 0, 0, 0, 0, 1, 0, 0, 1, 0, 0, 0, 0, 0, 0, 0, 0, 0, 0, 0, 0, 0,\n        0, 0, 0, 0, 0, 0, 0, 0, 0, 0, 0, 1, 2, 0, 0, 0, 0, 0, 0, 0, 0, 0, 0, 0,\n        5, 6, 6, 6, 6, 0, 0, 7, 8, 0, 0, 0, 5, 6, 6, 0, 1, 2, 2, 2, 2, 2, 2, 2,\n        2, 2, 2, 2, 0, 0, 0, 1, 2, 2, 2, 0, 0, 0, 0, 0, 1, 0, 0, 0, 1, 0, 1, 0,\n        1, 0, 1, 2, 0, 1, 2, 0, 0, 0, 0, 0, 0, 0, 0, 0, 0, 0, 0, 0, 0, 0, 0, 0,\n        0, 0, 0, 0, 0, 3, 4, 4, 4, 4, 0, 0, 0, 0, 0, 0, 0, 0, 0, 0, 0, 0, 0, 0,\n        0, 0, 0, 0, 0, 0, 0, 0, 0, 0, 0, 0, 0, 0, 0, 0, 0, 0, 0, 0, 0, 0, 0, 0,\n        0, 0, 0, 0, 0, 0, 0, 0, 0, 0, 0, 0, 0, 0, 0, 0, 0, 0, 0, 0, 0, 0, 0, 0,\n        0, 0, 0, 0, 0, 0, 0, 0, 0, 0, 0, 0, 0, 0, 0, 0])"
     },
     "execution_count": 9,
     "metadata": {},
     "output_type": "execute_result"
    }
   ],
   "source": [
    "train_dataset = pd.read_csv(TRAIN_PATH, encoding='utf8')\n",
    "# 数据预处理\n",
    "token_texts, tags = data_preprocessing(train_dataset, is_train=True)\n",
    "# 数据集装载\n",
    "\n",
    "tags[20]"
   ],
   "metadata": {
    "collapsed": false,
    "ExecuteTime": {
     "end_time": "2023-12-16T09:01:15.869185300Z",
     "start_time": "2023-12-16T09:00:59.906958500Z"
    }
   },
   "id": "dfea626f12a1c37f"
  },
  {
   "cell_type": "code",
   "execution_count": 24,
   "outputs": [
    {
     "data": {
      "text/plain": "{'input_ids': tensor([[ 101, 3389,  860, 8038,  100, 8038,  124,  127,  119,  126,  360,  510,\n          100, 8038,  128,  129, 3613,  120, 1146,  510,  100, 8038,  122,  129,\n         3613,  120, 1146,  510,  100,  100,  122,  124,  121,  120,  129,  121,\n          100,  155,  155,  100,  149, 8024,  860, 1798,  974, 4607, 8024, 4868,\n         2562, 3926, 3504, 8024, 6427, 6241, 3837, 1164, 8024, 6134, 2658, 5632,\n         4197, 8024, 3635, 1057, 4567, 2147, 8024, 5632, 1220,  860,  855, 8024,\n         3389,  860, 1394,  868,  511, 2552, 5511, 5592, 7346, 2595, 8024, 5592,\n         2398, 1788, 8024, 5498, 5569, 5490,  678, 3313, 1350, 8024, 1059, 5592,\n         3313, 6239, 1350, 2460, 2382, 1259, 1779, 8024, 3187, 1327, 4578, 1353,\n         6663, 4578, 1350, 5491, 5165, 2476,  511, 5592, 1371, 4919, 1220, 2595,\n         3843, 7509, 7346, 2595, 8039, 5499, 7885, 7509, 3633, 2382, 8024, 3313,\n         7319, 1350, 7770, 6444, 5499, 7885, 7509, 1350, 3698, 6814, 3717, 1898,\n          511, 5550, 3393, 4495, 4415, 2482, 3289, 3633, 2382, 8024, 3187,  904,\n         2482, 1350, 1400, 4960, 4535, 2501, 8024, 1392, 3491,  860, 3475, 4960,\n         3187, 1327, 4578, 1350, 1371, 1140, 4578,  511, 5550, 5490, 6235, 3187,\n         7384, 6629, 8024, 1352, 5513, 1277, 1371, 1140, 4578, 7346, 2595,  511,\n         5497, 7305, 1912, 4495, 3658, 3187, 4535, 2501,  511, 1724, 5501, 3187,\n         4535, 2501, 8024, 1392, 1068, 5688, 3833, 1220, 3633, 2382, 8039, 5491,\n         1213, 5491, 2476, 1213, 3633, 2382, 8039, 5508,  753,  510,  676, 5491,\n         5588, 1353, 2198, 8024, 6656, 5607, 5588, 1353, 2198, 3633, 2382, 2100,\n         1762, 8024, 2349, 3694, 5023, 4567, 4415, 1353, 2198, 2519, 3313, 2471,\n         1139,  511, 1381,  102]]), 'token_type_ids': tensor([[0, 0, 0, 0, 0, 0, 0, 0, 0, 0, 0, 0, 0, 0, 0, 0, 0, 0, 0, 0, 0, 0, 0, 0,\n         0, 0, 0, 0, 0, 0, 0, 0, 0, 0, 0, 0, 0, 0, 0, 0, 0, 0, 0, 0, 0, 0, 0, 0,\n         0, 0, 0, 0, 0, 0, 0, 0, 0, 0, 0, 0, 0, 0, 0, 0, 0, 0, 0, 0, 0, 0, 0, 0,\n         0, 0, 0, 0, 0, 0, 0, 0, 0, 0, 0, 0, 0, 0, 0, 0, 0, 0, 0, 0, 0, 0, 0, 0,\n         0, 0, 0, 0, 0, 0, 0, 0, 0, 0, 0, 0, 0, 0, 0, 0, 0, 0, 0, 0, 0, 0, 0, 0,\n         0, 0, 0, 0, 0, 0, 0, 0, 0, 0, 0, 0, 0, 0, 0, 0, 0, 0, 0, 0, 0, 0, 0, 0,\n         0, 0, 0, 0, 0, 0, 0, 0, 0, 0, 0, 0, 0, 0, 0, 0, 0, 0, 0, 0, 0, 0, 0, 0,\n         0, 0, 0, 0, 0, 0, 0, 0, 0, 0, 0, 0, 0, 0, 0, 0, 0, 0, 0, 0, 0, 0, 0, 0,\n         0, 0, 0, 0, 0, 0, 0, 0, 0, 0, 0, 0, 0, 0, 0, 0, 0, 0, 0, 0, 0, 0, 0, 0,\n         0, 0, 0, 0, 0, 0, 0, 0, 0, 0, 0, 0, 0, 0, 0, 0, 0, 0, 0, 0, 0, 0, 0, 0,\n         0, 0, 0, 0, 0, 0, 0, 0, 0, 0, 0, 0, 0, 0, 0, 0]]), 'attention_mask': tensor([[1, 1, 1, 1, 1, 1, 1, 1, 1, 1, 1, 1, 1, 1, 1, 1, 1, 1, 1, 1, 1, 1, 1, 1,\n         1, 1, 1, 1, 1, 1, 1, 1, 1, 1, 1, 1, 1, 1, 1, 1, 1, 1, 1, 1, 1, 1, 1, 1,\n         1, 1, 1, 1, 1, 1, 1, 1, 1, 1, 1, 1, 1, 1, 1, 1, 1, 1, 1, 1, 1, 1, 1, 1,\n         1, 1, 1, 1, 1, 1, 1, 1, 1, 1, 1, 1, 1, 1, 1, 1, 1, 1, 1, 1, 1, 1, 1, 1,\n         1, 1, 1, 1, 1, 1, 1, 1, 1, 1, 1, 1, 1, 1, 1, 1, 1, 1, 1, 1, 1, 1, 1, 1,\n         1, 1, 1, 1, 1, 1, 1, 1, 1, 1, 1, 1, 1, 1, 1, 1, 1, 1, 1, 1, 1, 1, 1, 1,\n         1, 1, 1, 1, 1, 1, 1, 1, 1, 1, 1, 1, 1, 1, 1, 1, 1, 1, 1, 1, 1, 1, 1, 1,\n         1, 1, 1, 1, 1, 1, 1, 1, 1, 1, 1, 1, 1, 1, 1, 1, 1, 1, 1, 1, 1, 1, 1, 1,\n         1, 1, 1, 1, 1, 1, 1, 1, 1, 1, 1, 1, 1, 1, 1, 1, 1, 1, 1, 1, 1, 1, 1, 1,\n         1, 1, 1, 1, 1, 1, 1, 1, 1, 1, 1, 1, 1, 1, 1, 1, 1, 1, 1, 1, 1, 1, 1, 1,\n         1, 1, 1, 1, 1, 1, 1, 1, 1, 1, 1, 1, 1, 1, 1, 1]])}"
     },
     "execution_count": 24,
     "metadata": {},
     "output_type": "execute_result"
    }
   ],
   "source": [
    "token_texts[20]\n"
   ],
   "metadata": {
    "collapsed": false,
    "ExecuteTime": {
     "end_time": "2023-11-07T12:14:45.499601500Z",
     "start_time": "2023-11-07T12:14:45.457789700Z"
    }
   },
   "id": "ce10f52a714c7912"
  },
  {
   "cell_type": "code",
   "execution_count": 25,
   "outputs": [
    {
     "data": {
      "text/plain": "torch.Size([1, 256])"
     },
     "execution_count": 25,
     "metadata": {},
     "output_type": "execute_result"
    }
   ],
   "source": [
    "token_texts[20]['attention_mask'].shape\n"
   ],
   "metadata": {
    "collapsed": false,
    "ExecuteTime": {
     "end_time": "2023-11-07T12:14:46.171002Z",
     "start_time": "2023-11-07T12:14:46.163022700Z"
    }
   },
   "id": "5442773a5a09e3aa"
  },
  {
   "cell_type": "code",
   "source": [
    "def execute():\n",
    "    # 加载训练集\n",
    "    train_dataset = pd.read_csv(TRAIN_PATH, encoding='utf8')\n",
    "\n",
    "    # 数据预处理\n",
    "    token_texts, tags = data_preprocessing(train_dataset, is_train=True)\n",
    "    # 数据集装载\n",
    "    train_dataset = NerDataset(token_texts, tags)\n",
    "    train_dataloader = DataLoader(dataset=train_dataset, batch_size=BATCH_SIZE, shuffle=True, num_workers=0)\n",
    "    # 构建模型\n",
    "    model = Bert_BiLSTM_CRF(tag2index=tag2index).to(DEVICE)\n",
    "    #model = Bert_CRF(tag2index=tag2index).to(DEVICE)\n",
    "    # 初始化模型参数优化器\n",
    "\n",
    "    crf_params = list(map(id, model.crf.parameters()))\n",
    "\n",
    "    base_params = filter(lambda p: id(p) not in crf_params,\n",
    "                     model.parameters())\n",
    "\n",
    "    optimizer_params = [\n",
    "          {'params': base_params},\n",
    "          {'params': model.crf.parameters(), 'lr': 2e-5 * 100},\n",
    "    ]\n",
    "\n",
    "    optimizer = optim.AdamW(optimizer_params, lr=2e-5)\n",
    "    print(f\"GPU_NAME:{torch.cuda.get_device_name()} | Memory_Allocated:{torch.cuda.memory_allocated()}\")\n",
    "    # 模型训练\n",
    "    for i in range(EPOCH):\n",
    "        print(f\"{i} Epoch\")\n",
    "        train(train_dataloader, model, optimizer, i)\n",
    "        # 保存模型\n",
    "        torch.save(model.state_dict(), MODEL_PATH2 + str(i) + '.pkl')\n",
    "        test_result = test(MODEL_PATH2 + str(i) + '.pkl', EPOCH)\n",
    "        #print(test_result)\n",
    "    # 保存模型\n",
    "    torch.save(model.state_dict(), MODEL_PATH_MAC + 'final.pkl')\n",
    "\n"
   ],
   "metadata": {
    "collapsed": false,
    "ExecuteTime": {
     "end_time": "2024-08-23T06:19:01.494301Z",
     "start_time": "2024-08-23T06:19:01.472256Z"
    }
   },
   "id": "c4249518bfbb53af",
   "outputs": [],
   "execution_count": 36
  },
  {
   "cell_type": "code",
   "source": [
    "from seqeval.metrics import classification_report\n",
    "\n",
    "#测试集预测实体标签\n",
    "def test(model_path, model_id):\n",
    "    # 加载数据集\n",
    "    test_dataset = pd.read_csv(TEST_PATH, encoding='utf8')\n",
    "    #测试集的tags_list\n",
    "    test_tags_true = test_dataset['BIO_anno'].apply(lambda x: x.split(sep=' '))\n",
    "    test_tags_true = test_tags_true.array.tolist()\n",
    "    # 数据预处理\n",
    "    token_texts, _ = data_preprocessing(test_dataset, is_train=False)\n",
    "    # 装载测试集\n",
    "    dataset_test = NerDatasetTest(token_texts)\n",
    "    test_dataloader = DataLoader(dataset=dataset_test, batch_size=BATCH_SIZE, shuffle=False, num_workers=0)\n",
    "    # 构建模型\n",
    "    model = Bert_BiLSTM_CRF(tag2index).to(DEVICE)\n",
    "    #model = Bert_CRF(tag2index).to(DEVICE)\n",
    "    model.load_state_dict(torch.load(model_path))\n",
    "    # 模型预测\n",
    "    model.eval()\n",
    "    predictions_list = []\n",
    "    with torch.no_grad():\n",
    "        for i, batch_data in enumerate(test_dataloader):\n",
    "            token_texts = batch_data['token_texts'].to(DEVICE)\n",
    "            predictions = model(token_texts, None)\n",
    "            predictions_list.extend(predictions)\n",
    "\n",
    "    # 将预测结果转换为文本格式\n",
    "    entity_tag_list = []\n",
    "    result = []\n",
    "    index2tag = {v: k for k, v in tag2index.items()}  # 反转字典\n",
    "    for i, (text, predictions) in enumerate(zip(test_dataset['text'], predictions_list)):\n",
    "        # 删除首位和最后一位\n",
    "        predictions.pop()\n",
    "        predictions.pop(0)\n",
    "        text_entity_tag = []\n",
    "        result_tag = []\n",
    "        for c, t in zip(text, predictions):\n",
    "            if t != 0:\n",
    "                text_entity_tag.append(c + index2tag[t])\n",
    "                result_tag.append(index2tag[t])\n",
    "            else:\n",
    "                result_tag.append('O')\n",
    "        result.append(result_tag)\n",
    "        entity_tag_list.append(\" \".join(text_entity_tag))  # 合并为str并加入列表中\n",
    "\n",
    "    result_df = pd.DataFrame(data=entity_tag_list, columns=['result'])\n",
    "    result_df.to_csv('../result.csv')\n",
    "\n",
    "    for t in range(len(test_tags_true)):\n",
    "      if len(test_tags_true[t]) != len(result[t]):\n",
    "        test_tags_true[t] = test_tags_true[t][0: len(result[t])]\n",
    "\n",
    "    predcision = precision_score(test_tags_true, result)\n",
    "    recall =  recall_score(test_tags_true, result)\n",
    "    class_report = classification_report(test_tags_true, result, digits=6)\n",
    "\n",
    "    print(f\"{model_id} test f1_score = \" + str(f1_score(test_tags_true, result)))\n",
    "    print(f\"{model_id} test predcision_score = \" + str(predcision))\n",
    "    print(f\"{model_id} test recall_score = \" + str(recall))\n",
    "    print(f\"{model_id} test report = \" + class_report)\n",
    "    \n",
    "    return {\n",
    "        \"f1\": f1_score(test_tags_true, result),\n",
    "        \"pred\": predcision,\n",
    "        'recall': recall,\n",
    "        'report': class_report,\n",
    "    }"
   ],
   "metadata": {
    "collapsed": false,
    "ExecuteTime": {
     "end_time": "2024-08-23T06:19:07.205985Z",
     "start_time": "2024-08-23T06:19:07.183987Z"
    }
   },
   "id": "4696eade610d72c7",
   "outputs": [],
   "execution_count": 37
  },
  {
   "cell_type": "code",
   "source": [
    "execute()"
   ],
   "metadata": {
    "collapsed": false,
    "is_executing": true,
    "ExecuteTime": {
     "end_time": "2024-08-23T08:25:45.069183Z",
     "start_time": "2024-08-23T06:19:07.925956Z"
    }
   },
   "id": "430757efd2f4e9cf",
   "outputs": [
    {
     "name": "stderr",
     "output_type": "stream",
     "text": [
      "100%|██████████| 2700/2700 [00:00<00:00, 3111.10it/s]\n",
      "100%|██████████| 2700/2700 [00:00<00:00, 56907.07it/s]\n"
     ]
    },
    {
     "name": "stdout",
     "output_type": "stream",
     "text": [
      "GPU_NAME:NVIDIA GeForce RTX 2060 SUPER | Memory_Allocated:429918720\n",
      "0 Epoch\n",
      "Epoch:0 | i:0 | loss:501.2042236328125 | Micro_F1:0.0007234581298607343 | predcision: 0.0003807348181991243 | recall: 0.007246376811594203\n"
     ]
    },
    {
     "name": "stderr",
     "output_type": "stream",
     "text": [
      "100%|██████████| 335/335 [00:00<00:00, 3142.33it/s]\n",
      "F:\\anaconda\\envs\\pytorch\\lib\\site-packages\\seqeval\\metrics\\v1.py:57: UndefinedMetricWarning: Precision and F-score are ill-defined and being set to 0.0 in labels with no predicted samples. Use `zero_division` parameter to control this behavior.\n",
      "  _warn_prf(average, modifier, msg_start, len(result))\n"
     ]
    },
    {
     "name": "stdout",
     "output_type": "stream",
     "text": [
      "50 test f1_score = 0.11891607471717969\n",
      "50 test predcision_score = 0.20829493087557605\n",
      "50 test recall_score = 0.08321060382916053\n",
      "50 test report =               precision    recall  f1-score   support\n",
      "\n",
      "       实验室检验   0.000000  0.000000  0.000000       260\n",
      "        影像检查   0.000000  0.000000  0.000000       170\n",
      "          手术   0.000000  0.000000  0.000000       110\n",
      "       疾病和诊断   0.206833  0.293963  0.242818       762\n",
      "          药物   0.000000  0.000000  0.000000       231\n",
      "        解剖部位   1.000000  0.001691  0.003376      1183\n",
      "\n",
      "   micro avg   0.208295  0.083211  0.118916      2716\n",
      "   macro avg   0.201139  0.049276  0.041032      2716\n",
      "weighted avg   0.493596  0.083211  0.069595      2716\n",
      "\n",
      "1 Epoch\n",
      "Epoch:1 | i:0 | loss:88.80485534667969 | Micro_F1:0.0784313725490196 | predcision: 0.125 | recall: 0.05714285714285714\n"
     ]
    },
    {
     "name": "stderr",
     "output_type": "stream",
     "text": [
      "100%|██████████| 335/335 [00:00<00:00, 3396.58it/s]\n"
     ]
    },
    {
     "name": "stdout",
     "output_type": "stream",
     "text": [
      "50 test f1_score = 0.6148028092922745\n",
      "50 test predcision_score = 0.601691928093056\n",
      "50 test recall_score = 0.6284977908689249\n",
      "50 test report =               precision    recall  f1-score   support\n",
      "\n",
      "       实验室检验   0.310345  0.034615  0.062284       260\n",
      "        影像检查   0.000000  0.000000  0.000000       170\n",
      "          手术   0.151515  0.136364  0.143541       110\n",
      "       疾病和诊断   0.658648  0.754593  0.703364       762\n",
      "          药物   0.647059  0.714286  0.679012       231\n",
      "        解剖部位   0.610356  0.797126  0.691349      1183\n",
      "\n",
      "   micro avg   0.601692  0.628498  0.614803      2716\n",
      "   macro avg   0.396321  0.406164  0.379925      2716\n",
      "weighted avg   0.541520  0.628498  0.567991      2716\n",
      "\n",
      "2 Epoch\n",
      "Epoch:2 | i:0 | loss:39.88667297363281 | Micro_F1:0.6088631984585742 | predcision: 0.6220472440944882 | recall: 0.5962264150943396\n"
     ]
    },
    {
     "name": "stderr",
     "output_type": "stream",
     "text": [
      "100%|██████████| 335/335 [00:00<00:00, 3191.20it/s]\n"
     ]
    },
    {
     "name": "stdout",
     "output_type": "stream",
     "text": [
      "50 test f1_score = 0.7161230195712955\n",
      "50 test predcision_score = 0.7251793129482824\n",
      "50 test recall_score = 0.7072901325478645\n",
      "50 test report =               precision    recall  f1-score   support\n",
      "\n",
      "       实验室检验   0.415094  0.253846  0.315036       260\n",
      "        影像检查   0.714286  0.558824  0.627063       170\n",
      "          手术   0.504762  0.481818  0.493023       110\n",
      "       疾病和诊断   0.805097  0.704724  0.751575       762\n",
      "          药物   0.837321  0.757576  0.795455       231\n",
      "        解剖部位   0.723110  0.841082  0.777648      1183\n",
      "\n",
      "   micro avg   0.725179  0.707290  0.716123      2716\n",
      "   macro avg   0.666612  0.599645  0.626633      2716\n",
      "weighted avg   0.716945  0.707290  0.706609      2716\n",
      "\n",
      "3 Epoch\n",
      "Epoch:3 | i:0 | loss:26.73784828186035 | Micro_F1:0.7297297297297296 | predcision: 0.72 | recall: 0.7397260273972602\n"
     ]
    },
    {
     "name": "stderr",
     "output_type": "stream",
     "text": [
      "100%|██████████| 335/335 [00:00<00:00, 3271.69it/s]\n"
     ]
    },
    {
     "name": "stdout",
     "output_type": "stream",
     "text": [
      "50 test f1_score = 0.7918308849874596\n",
      "50 test predcision_score = 0.771109560362875\n",
      "50 test recall_score = 0.8136966126656848\n",
      "50 test report =               precision    recall  f1-score   support\n",
      "\n",
      "       实验室检验   0.689139  0.707692  0.698292       260\n",
      "        影像检查   0.770833  0.870588  0.817680       170\n",
      "          手术   0.855769  0.809091  0.831776       110\n",
      "       疾病和诊断   0.812912  0.809711  0.811308       762\n",
      "          药物   0.768627  0.848485  0.806584       231\n",
      "        解剖部位   0.757176  0.825021  0.789644      1183\n",
      "\n",
      "   micro avg   0.771110  0.813697  0.791831      2716\n",
      "   macro avg   0.775743  0.811765  0.792547      2716\n",
      "weighted avg   0.772122  0.813697  0.791879      2716\n",
      "\n",
      "4 Epoch\n",
      "Epoch:4 | i:0 | loss:15.170167922973633 | Micro_F1:0.9180327868852458 | predcision: 0.9120521172638436 | recall: 0.9240924092409241\n"
     ]
    },
    {
     "name": "stderr",
     "output_type": "stream",
     "text": [
      "100%|██████████| 335/335 [00:00<00:00, 3103.35it/s]\n"
     ]
    },
    {
     "name": "stdout",
     "output_type": "stream",
     "text": [
      "50 test f1_score = 0.8024316109422491\n",
      "50 test predcision_score = 0.7799791449426486\n",
      "50 test recall_score = 0.8262150220913107\n",
      "50 test report =               precision    recall  f1-score   support\n",
      "\n",
      "       实验室检验   0.641844  0.696154  0.667897       260\n",
      "        影像检查   0.839779  0.894118  0.866097       170\n",
      "          手术   0.801724  0.845455  0.823009       110\n",
      "       疾病和诊断   0.858757  0.797900  0.827211       762\n",
      "          药物   0.803279  0.848485  0.825263       231\n",
      "        解剖部位   0.753343  0.857143  0.801898      1183\n",
      "\n",
      "   micro avg   0.779979  0.826215  0.802432      2716\n",
      "   macro avg   0.783121  0.823209  0.801896      2716\n",
      "weighted avg   0.783861  0.826215  0.803033      2716\n",
      "\n",
      "5 Epoch\n",
      "Epoch:5 | i:0 | loss:14.72569465637207 | Micro_F1:0.8634686346863468 | predcision: 0.850909090909091 | recall: 0.8764044943820225\n"
     ]
    },
    {
     "name": "stderr",
     "output_type": "stream",
     "text": [
      "100%|██████████| 335/335 [00:00<00:00, 3089.04it/s]\n"
     ]
    },
    {
     "name": "stdout",
     "output_type": "stream",
     "text": [
      "50 test f1_score = 0.8126915449792681\n",
      "50 test predcision_score = 0.7961850936064995\n",
      "50 test recall_score = 0.8298969072164949\n",
      "50 test report =               precision    recall  f1-score   support\n",
      "\n",
      "       实验室检验   0.718412  0.765385  0.741155       260\n",
      "        影像检查   0.843931  0.858824  0.851312       170\n",
      "          手术   0.862745  0.800000  0.830189       110\n",
      "       疾病和诊断   0.818919  0.795276  0.806924       762\n",
      "          药物   0.836207  0.839827  0.838013       231\n",
      "        解剖部位   0.781178  0.863060  0.820080      1183\n",
      "\n",
      "   micro avg   0.796185  0.829897  0.812692      2716\n",
      "   macro avg   0.810232  0.820395  0.814612      2716\n",
      "weighted avg   0.797670  0.829897  0.812723      2716\n",
      "\n",
      "6 Epoch\n",
      "Epoch:6 | i:0 | loss:14.362651824951172 | Micro_F1:0.8440748440748441 | predcision: 0.8285714285714286 | recall: 0.8601694915254238\n"
     ]
    },
    {
     "name": "stderr",
     "output_type": "stream",
     "text": [
      "100%|██████████| 335/335 [00:00<00:00, 3365.80it/s]\n"
     ]
    },
    {
     "name": "stdout",
     "output_type": "stream",
     "text": [
      "50 test f1_score = 0.8132302714362754\n",
      "50 test predcision_score = 0.7945205479452054\n",
      "50 test recall_score = 0.8328424153166422\n",
      "50 test report =               precision    recall  f1-score   support\n",
      "\n",
      "       实验室检验   0.789272  0.792308  0.790787       260\n",
      "        影像检查   0.806818  0.835294  0.820809       170\n",
      "          手术   0.844037  0.836364  0.840183       110\n",
      "       疾病和诊断   0.813536  0.772966  0.792732       762\n",
      "          药物   0.818182  0.857143  0.837209       231\n",
      "        解剖部位   0.775281  0.874894  0.822081      1183\n",
      "\n",
      "   micro avg   0.794521  0.832842  0.813230      2716\n",
      "   macro avg   0.807854  0.828161  0.817300      2716\n",
      "weighted avg   0.795761  0.832842  0.812791      2716\n",
      "\n",
      "7 Epoch\n",
      "Epoch:7 | i:0 | loss:7.9102582931518555 | Micro_F1:0.918032786885246 | predcision: 0.9068825910931174 | recall: 0.9294605809128631\n"
     ]
    },
    {
     "name": "stderr",
     "output_type": "stream",
     "text": [
      "100%|██████████| 335/335 [00:00<00:00, 2803.90it/s]\n"
     ]
    },
    {
     "name": "stdout",
     "output_type": "stream",
     "text": [
      "50 test f1_score = 0.8145493639132771\n",
      "50 test predcision_score = 0.7933682373472949\n",
      "50 test recall_score = 0.8368924889543446\n",
      "50 test report =               precision    recall  f1-score   support\n",
      "\n",
      "       实验室检验   0.757246  0.803846  0.779851       260\n",
      "        影像检查   0.838150  0.852941  0.845481       170\n",
      "          手术   0.859813  0.836364  0.847926       110\n",
      "       疾病和诊断   0.842776  0.780840  0.810627       762\n",
      "          药物   0.829167  0.861472  0.845011       231\n",
      "        解剖部位   0.757887  0.873204  0.811469      1183\n",
      "\n",
      "   micro avg   0.793368  0.836892  0.814549      2716\n",
      "   macro avg   0.814173  0.834778  0.823394      2716\n",
      "weighted avg   0.796857  0.836892  0.814664      2716\n",
      "\n",
      "8 Epoch\n",
      "Epoch:8 | i:0 | loss:6.522915840148926 | Micro_F1:0.9380165289256199 | predcision: 0.9227642276422764 | recall: 0.9537815126050421\n"
     ]
    },
    {
     "name": "stderr",
     "output_type": "stream",
     "text": [
      "100%|██████████| 335/335 [00:00<00:00, 3205.20it/s]\n"
     ]
    },
    {
     "name": "stdout",
     "output_type": "stream",
     "text": [
      "50 test f1_score = 0.8148015731140507\n",
      "50 test predcision_score = 0.7918693537178596\n",
      "50 test recall_score = 0.8391016200294551\n",
      "50 test report =               precision    recall  f1-score   support\n",
      "\n",
      "       实验室检验   0.727915  0.792308  0.758748       260\n",
      "        影像检查   0.804348  0.870588  0.836158       170\n",
      "          手术   0.845455  0.845455  0.845455       110\n",
      "       疾病和诊断   0.827586  0.787402  0.806994       762\n",
      "          药物   0.812245  0.861472  0.836134       231\n",
      "        解剖部位   0.776108  0.873204  0.821798      1183\n",
      "\n",
      "   micro avg   0.791869  0.839102  0.814802      2716\n",
      "   macro avg   0.798943  0.838405  0.817548      2716\n",
      "weighted avg   0.793587  0.839102  0.814685      2716\n",
      "\n",
      "9 Epoch\n",
      "Epoch:9 | i:0 | loss:4.349146366119385 | Micro_F1:0.9376558603491272 | predcision: 0.94 | recall: 0.9353233830845771\n"
     ]
    },
    {
     "name": "stderr",
     "output_type": "stream",
     "text": [
      "100%|██████████| 335/335 [00:00<00:00, 3410.86it/s]\n"
     ]
    },
    {
     "name": "stdout",
     "output_type": "stream",
     "text": [
      "50 test f1_score = 0.8135531799238992\n",
      "50 test predcision_score = 0.8009275775954334\n",
      "50 test recall_score = 0.8265832106038291\n",
      "50 test report =               precision    recall  f1-score   support\n",
      "\n",
      "       实验室检验   0.755725  0.761538  0.758621       260\n",
      "        影像检查   0.802139  0.882353  0.840336       170\n",
      "          手术   0.771930  0.800000  0.785714       110\n",
      "       疾病和诊断   0.821918  0.787402  0.804290       762\n",
      "          药物   0.816667  0.848485  0.832272       231\n",
      "        解剖部位   0.797638  0.856298  0.825927      1183\n",
      "\n",
      "   micro avg   0.800928  0.826583  0.813553      2716\n",
      "   macro avg   0.794336  0.822679  0.807860      2716\n",
      "weighted avg   0.801297  0.826583  0.813226      2716\n",
      "\n",
      "10 Epoch\n",
      "Epoch:10 | i:0 | loss:3.5477395057678223 | Micro_F1:0.9891540130151845 | predcision: 0.991304347826087 | recall: 0.987012987012987\n"
     ]
    },
    {
     "name": "stderr",
     "output_type": "stream",
     "text": [
      "100%|██████████| 335/335 [00:00<00:00, 3270.20it/s]\n"
     ]
    },
    {
     "name": "stdout",
     "output_type": "stream",
     "text": [
      "50 test f1_score = 0.8068264342774146\n",
      "50 test predcision_score = 0.7958452722063037\n",
      "50 test recall_score = 0.8181148748159057\n",
      "50 test report =               precision    recall  f1-score   support\n",
      "\n",
      "       实验室检验   0.702509  0.753846  0.727273       260\n",
      "        影像检查   0.792683  0.764706  0.778443       170\n",
      "          手术   0.828571  0.790909  0.809302       110\n",
      "       疾病和诊断   0.821809  0.811024  0.816380       762\n",
      "          药物   0.829060  0.839827  0.834409       231\n",
      "        解剖部位   0.792528  0.842773  0.816878      1183\n",
      "\n",
      "   micro avg   0.795845  0.818115  0.806826      2716\n",
      "   macro avg   0.794527  0.800514  0.797114      2716\n",
      "weighted avg   0.796702  0.818115  0.806939      2716\n",
      "\n",
      "11 Epoch\n",
      "Epoch:11 | i:0 | loss:5.194230079650879 | Micro_F1:0.9537223340040242 | predcision: 0.9595141700404858 | recall: 0.948\n"
     ]
    },
    {
     "name": "stderr",
     "output_type": "stream",
     "text": [
      "100%|██████████| 335/335 [00:00<00:00, 3300.02it/s]\n"
     ]
    },
    {
     "name": "stdout",
     "output_type": "stream",
     "text": [
      "50 test f1_score = 0.8152450090744102\n",
      "50 test predcision_score = 0.80386542591267\n",
      "50 test recall_score = 0.8269513991163475\n",
      "50 test report =               precision    recall  f1-score   support\n",
      "\n",
      "       实验室检验   0.759259  0.788462  0.773585       260\n",
      "        影像检查   0.837989  0.882353  0.859599       170\n",
      "          手术   0.782609  0.818182  0.800000       110\n",
      "       疾病和诊断   0.834031  0.784777  0.808654       762\n",
      "          药物   0.827731  0.852814  0.840085       231\n",
      "        解剖部位   0.789020  0.850380  0.818552      1183\n",
      "\n",
      "   micro avg   0.803865  0.826951  0.815245      2716\n",
      "   macro avg   0.805106  0.829495  0.816746      2716\n",
      "weighted avg   0.804897  0.826951  0.815120      2716\n",
      "\n",
      "12 Epoch\n",
      "Epoch:12 | i:0 | loss:3.668788433074951 | Micro_F1:0.967741935483871 | predcision: 0.9642857142857143 | recall: 0.9712230215827338\n"
     ]
    },
    {
     "name": "stderr",
     "output_type": "stream",
     "text": [
      "100%|██████████| 335/335 [00:00<00:00, 3301.90it/s]\n"
     ]
    },
    {
     "name": "stdout",
     "output_type": "stream",
     "text": [
      "50 test f1_score = 0.8156143191221442\n",
      "50 test predcision_score = 0.797397115722828\n",
      "50 test recall_score = 0.8346833578792342\n",
      "50 test report =               precision    recall  f1-score   support\n",
      "\n",
      "       实验室检验   0.709898  0.800000  0.752260       260\n",
      "        影像检查   0.828571  0.852941  0.840580       170\n",
      "          手术   0.850467  0.827273  0.838710       110\n",
      "       疾病和诊断   0.830417  0.809711  0.819934       762\n",
      "          药物   0.818182  0.857143  0.837209       231\n",
      "        解剖部位   0.785659  0.852071  0.817518      1183\n",
      "\n",
      "   micro avg   0.797397  0.834683  0.815614      2716\n",
      "   macro avg   0.803866  0.833190  0.817702      2716\n",
      "weighted avg   0.799040  0.834683  0.815925      2716\n",
      "\n",
      "13 Epoch\n",
      "Epoch:13 | i:0 | loss:3.4035298824310303 | Micro_F1:0.9241706161137442 | predcision: 0.9112149532710281 | recall: 0.9375\n"
     ]
    },
    {
     "name": "stderr",
     "output_type": "stream",
     "text": [
      "100%|██████████| 335/335 [00:00<00:00, 3298.59it/s]\n"
     ]
    },
    {
     "name": "stdout",
     "output_type": "stream",
     "text": [
      "50 test f1_score = 0.8134005763688761\n",
      "50 test predcision_score = 0.7961918194640338\n",
      "50 test recall_score = 0.8313696612665685\n",
      "50 test report =               precision    recall  f1-score   support\n",
      "\n",
      "       实验室检验   0.775665  0.784615  0.780115       260\n",
      "        影像检查   0.829412  0.829412  0.829412       170\n",
      "          手术   0.758621  0.800000  0.778761       110\n",
      "       疾病和诊断   0.808959  0.805774  0.807364       762\n",
      "          药物   0.827004  0.848485  0.837607       231\n",
      "        解剖部位   0.786212  0.857988  0.820534      1183\n",
      "\n",
      "   micro avg   0.796192  0.831370  0.813401      2716\n",
      "   macro avg   0.797646  0.821046  0.808965      2716\n",
      "weighted avg   0.796640  0.831370  0.813285      2716\n",
      "\n",
      "14 Epoch\n",
      "Epoch:14 | i:0 | loss:1.5648493766784668 | Micro_F1:0.9828326180257511 | predcision: 0.9786324786324786 | recall: 0.9870689655172413\n"
     ]
    },
    {
     "name": "stderr",
     "output_type": "stream",
     "text": [
      "100%|██████████| 335/335 [00:00<00:00, 3335.34it/s]\n"
     ]
    },
    {
     "name": "stdout",
     "output_type": "stream",
     "text": [
      "50 test f1_score = 0.8187240195192481\n",
      "50 test predcision_score = 0.8040468583599574\n",
      "50 test recall_score = 0.8339469808541974\n",
      "50 test report =               precision    recall  f1-score   support\n",
      "\n",
      "       实验室检验   0.794007  0.815385  0.804554       260\n",
      "        影像检查   0.835227  0.864706  0.849711       170\n",
      "          手术   0.796296  0.781818  0.788991       110\n",
      "       疾病和诊断   0.819892  0.800525  0.810093       762\n",
      "          药物   0.822581  0.883117  0.851775       231\n",
      "        解剖部位   0.789639  0.850380  0.818885      1183\n",
      "\n",
      "   micro avg   0.804047  0.833947  0.818724      2716\n",
      "   macro avg   0.809607  0.832655  0.820668      2716\n",
      "weighted avg   0.804470  0.833947  0.818562      2716\n",
      "\n",
      "15 Epoch\n",
      "Epoch:15 | i:0 | loss:1.9352912902832031 | Micro_F1:0.9726315789473684 | predcision: 0.9705882352941176 | recall: 0.9746835443037974\n"
     ]
    },
    {
     "name": "stderr",
     "output_type": "stream",
     "text": [
      "100%|██████████| 335/335 [00:00<00:00, 3261.01it/s]\n"
     ]
    },
    {
     "name": "stdout",
     "output_type": "stream",
     "text": [
      "50 test f1_score = 0.814336917562724\n",
      "50 test predcision_score = 0.7932960893854749\n",
      "50 test recall_score = 0.8365243004418262\n",
      "50 test report =               precision    recall  f1-score   support\n",
      "\n",
      "       实验室检验   0.740484  0.823077  0.779599       260\n",
      "        影像检查   0.841808  0.876471  0.858790       170\n",
      "          手术   0.771930  0.800000  0.785714       110\n",
      "       疾病和诊断   0.804404  0.814961  0.809648       762\n",
      "          药物   0.811475  0.857143  0.833684       231\n",
      "        解剖部位   0.790221  0.846999  0.817625      1183\n",
      "\n",
      "   micro avg   0.793296  0.836524  0.814337      2716\n",
      "   macro avg   0.793387  0.836442  0.814177      2716\n",
      "weighted avg   0.793735  0.836524  0.814397      2716\n",
      "\n",
      "16 Epoch\n",
      "Epoch:16 | i:0 | loss:1.920060157775879 | Micro_F1:0.9717741935483872 | predcision: 0.9601593625498008 | recall: 0.9836734693877551\n"
     ]
    },
    {
     "name": "stderr",
     "output_type": "stream",
     "text": [
      "100%|██████████| 335/335 [00:00<00:00, 3311.14it/s]\n"
     ]
    },
    {
     "name": "stdout",
     "output_type": "stream",
     "text": [
      "50 test f1_score = 0.8173318950017979\n",
      "50 test predcision_score = 0.7986647926914968\n",
      "50 test recall_score = 0.8368924889543446\n",
      "50 test report =               precision    recall  f1-score   support\n",
      "\n",
      "       实验室检验   0.735395  0.823077  0.776770       260\n",
      "        影像检查   0.830508  0.864706  0.847262       170\n",
      "          手术   0.792793  0.800000  0.796380       110\n",
      "       疾病和诊断   0.814324  0.805774  0.810026       762\n",
      "          药物   0.848889  0.826840  0.837719       231\n",
      "        解剖部位   0.791149  0.861369  0.824767      1183\n",
      "\n",
      "   micro avg   0.798665  0.836892  0.817332      2716\n",
      "   macro avg   0.802176  0.830294  0.815487      2716\n",
      "weighted avg   0.799755  0.836892  0.817397      2716\n",
      "\n",
      "17 Epoch\n",
      "Epoch:17 | i:0 | loss:1.0254230499267578 | Micro_F1:0.9905213270142179 | predcision: 0.9858490566037735 | recall: 0.9952380952380953\n"
     ]
    },
    {
     "name": "stderr",
     "output_type": "stream",
     "text": [
      "100%|██████████| 335/335 [00:00<00:00, 3369.44it/s]\n"
     ]
    },
    {
     "name": "stdout",
     "output_type": "stream",
     "text": [
      "50 test f1_score = 0.8152820327987026\n",
      "50 test predcision_score = 0.798446876103071\n",
      "50 test recall_score = 0.8328424153166422\n",
      "50 test report =               precision    recall  f1-score   support\n",
      "\n",
      "       实验室检验   0.740214  0.800000  0.768946       260\n",
      "        影像检查   0.857143  0.847059  0.852071       170\n",
      "          手术   0.763158  0.790909  0.776786       110\n",
      "       疾病和诊断   0.833107  0.805774  0.819213       762\n",
      "          药物   0.824268  0.852814  0.838298       231\n",
      "        解剖部位   0.782071  0.855452  0.817117      1183\n",
      "\n",
      "   micro avg   0.798447  0.832842  0.815282      2716\n",
      "   macro avg   0.799993  0.825335  0.812072      2716\n",
      "weighted avg   0.799905  0.832842  0.815450      2716\n",
      "\n",
      "18 Epoch\n",
      "Epoch:18 | i:0 | loss:0.895143985748291 | Micro_F1:0.9924242424242423 | predcision: 0.9961977186311787 | recall: 0.9886792452830189\n"
     ]
    },
    {
     "name": "stderr",
     "output_type": "stream",
     "text": [
      "100%|██████████| 335/335 [00:00<00:00, 3350.56it/s]\n"
     ]
    },
    {
     "name": "stdout",
     "output_type": "stream",
     "text": [
      "50 test f1_score = 0.818506609503394\n",
      "50 test predcision_score = 0.7949340735600278\n",
      "50 test recall_score = 0.843519882179676\n",
      "50 test report =               precision    recall  f1-score   support\n",
      "\n",
      "       实验室检验   0.764912  0.838462  0.800000       260\n",
      "        影像检查   0.845714  0.870588  0.857971       170\n",
      "          手术   0.780702  0.809091  0.794643       110\n",
      "       疾病和诊断   0.816032  0.814961  0.815496       762\n",
      "          药物   0.820408  0.870130  0.844538       231\n",
      "        解剖部位   0.778802  0.857143  0.816097      1183\n",
      "\n",
      "   micro avg   0.794934  0.843520  0.818507      2716\n",
      "   macro avg   0.801095  0.843396  0.821457      2716\n",
      "weighted avg   0.795721  0.843520  0.818558      2716\n",
      "\n",
      "19 Epoch\n",
      "Epoch:19 | i:0 | loss:1.30906343460083 | Micro_F1:0.9777777777777777 | predcision: 0.9777777777777777 | recall: 0.9777777777777777\n"
     ]
    },
    {
     "name": "stderr",
     "output_type": "stream",
     "text": [
      "100%|██████████| 335/335 [00:00<00:00, 3222.40it/s]\n"
     ]
    },
    {
     "name": "stdout",
     "output_type": "stream",
     "text": [
      "50 test f1_score = 0.8128052088985349\n",
      "50 test predcision_score = 0.7987913259864913\n",
      "50 test recall_score = 0.8273195876288659\n",
      "50 test report =               precision    recall  f1-score   support\n",
      "\n",
      "       实验室检验   0.731707  0.807692  0.767824       260\n",
      "        影像检查   0.825843  0.864706  0.844828       170\n",
      "          手术   0.769231  0.818182  0.792952       110\n",
      "       疾病和诊断   0.824658  0.790026  0.806971       762\n",
      "          药物   0.816327  0.865801  0.840336       231\n",
      "        解剖部位   0.794586  0.843618  0.818368      1183\n",
      "\n",
      "   micro avg   0.798791  0.827320  0.812805      2716\n",
      "   macro avg   0.793725  0.831671  0.811880      2716\n",
      "weighted avg   0.799782  0.827320  0.812827      2716\n",
      "\n",
      "20 Epoch\n",
      "Epoch:20 | i:0 | loss:2.6235132217407227 | Micro_F1:0.9784735812133072 | predcision: 0.9803921568627451 | recall: 0.9765625\n"
     ]
    },
    {
     "name": "stderr",
     "output_type": "stream",
     "text": [
      "100%|██████████| 335/335 [00:00<00:00, 3239.02it/s]\n"
     ]
    },
    {
     "name": "stdout",
     "output_type": "stream",
     "text": [
      "50 test f1_score = 0.8087706685837526\n",
      "50 test predcision_score = 0.7900280898876404\n",
      "50 test recall_score = 0.8284241531664213\n",
      "50 test report =               precision    recall  f1-score   support\n",
      "\n",
      "       实验室检验   0.730769  0.803846  0.765568       260\n",
      "        影像检查   0.829670  0.888235  0.857955       170\n",
      "          手术   0.771186  0.827273  0.798246       110\n",
      "       疾病和诊断   0.813536  0.772966  0.792732       762\n",
      "          药物   0.825726  0.861472  0.843220       231\n",
      "        解剖部位   0.779491  0.854607  0.815323      1183\n",
      "\n",
      "   micro avg   0.790028  0.828424  0.808771      2716\n",
      "   macro avg   0.791730  0.834733  0.812174      2716\n",
      "weighted avg   0.791115  0.828424  0.808571      2716\n",
      "\n",
      "21 Epoch\n",
      "Epoch:21 | i:0 | loss:2.1639580726623535 | Micro_F1:0.9730941704035874 | predcision: 0.9774774774774775 | recall: 0.96875\n"
     ]
    },
    {
     "name": "stderr",
     "output_type": "stream",
     "text": [
      "100%|██████████| 335/335 [00:00<00:00, 3205.86it/s]\n"
     ]
    },
    {
     "name": "stdout",
     "output_type": "stream",
     "text": [
      "50 test f1_score = 0.8159653241827705\n",
      "50 test predcision_score = 0.8007798652959943\n",
      "50 test recall_score = 0.8317378497790869\n",
      "50 test report =               precision    recall  f1-score   support\n",
      "\n",
      "       实验室检验   0.731293  0.826923  0.776173       260\n",
      "        影像检查   0.824176  0.882353  0.852273       170\n",
      "          手术   0.796460  0.818182  0.807175       110\n",
      "       疾病和诊断   0.803922  0.807087  0.805501       762\n",
      "          药物   0.814815  0.857143  0.835443       231\n",
      "        解剖部位   0.809641  0.837701  0.823432      1183\n",
      "\n",
      "   micro avg   0.800780  0.831738  0.815965      2716\n",
      "   macro avg   0.796718  0.838231  0.816666      2716\n",
      "weighted avg   0.801352  0.831738  0.816045      2716\n",
      "\n",
      "22 Epoch\n",
      "Epoch:22 | i:0 | loss:1.4922986030578613 | Micro_F1:0.9774436090225564 | predcision: 0.9701492537313433 | recall: 0.9848484848484849\n"
     ]
    },
    {
     "name": "stderr",
     "output_type": "stream",
     "text": [
      "100%|██████████| 335/335 [00:00<00:00, 3400.20it/s]\n"
     ]
    },
    {
     "name": "stdout",
     "output_type": "stream",
     "text": [
      "50 test f1_score = 0.8205689277899344\n",
      "50 test predcision_score = 0.8128612716763006\n",
      "50 test recall_score = 0.8284241531664213\n",
      "50 test report =               precision    recall  f1-score   support\n",
      "\n",
      "       实验室检验   0.769231  0.846154  0.805861       260\n",
      "        影像检查   0.865497  0.870588  0.868035       170\n",
      "          手术   0.825688  0.818182  0.821918       110\n",
      "       疾病和诊断   0.814136  0.816273  0.815203       762\n",
      "          药物   0.847458  0.865801  0.856531       231\n",
      "        解剖部位   0.806988  0.819949  0.813417      1183\n",
      "\n",
      "   micro avg   0.812861  0.828424  0.820569      2716\n",
      "   macro avg   0.821500  0.839491  0.830161      2716\n",
      "weighted avg   0.813241  0.828424  0.820625      2716\n",
      "\n",
      "23 Epoch\n",
      "Epoch:23 | i:0 | loss:1.263718605041504 | Micro_F1:0.9858156028368794 | predcision: 0.9858156028368794 | recall: 0.9858156028368794\n"
     ]
    },
    {
     "name": "stderr",
     "output_type": "stream",
     "text": [
      "100%|██████████| 335/335 [00:00<00:00, 3151.97it/s]\n"
     ]
    },
    {
     "name": "stdout",
     "output_type": "stream",
     "text": [
      "50 test f1_score = 0.8184124682856108\n",
      "50 test predcision_score = 0.8058529621698787\n",
      "50 test recall_score = 0.8313696612665685\n",
      "50 test report =               precision    recall  f1-score   support\n",
      "\n",
      "       实验室检验   0.755396  0.807692  0.780669       260\n",
      "        影像检查   0.837989  0.882353  0.859599       170\n",
      "          手术   0.803571  0.818182  0.810811       110\n",
      "       疾病和诊断   0.826558  0.800525  0.813333       762\n",
      "          药物   0.822785  0.844156  0.833333       231\n",
      "        解剖部位   0.797297  0.847844  0.821794      1183\n",
      "\n",
      "   micro avg   0.805853  0.831370  0.818412      2716\n",
      "   macro avg   0.807266  0.833459  0.819923      2716\n",
      "weighted avg   0.806464  0.831370  0.818386      2716\n",
      "\n",
      "24 Epoch\n",
      "Epoch:24 | i:0 | loss:1.0013542175292969 | Micro_F1:0.9905362776025236 | predcision: 0.9905362776025236 | recall: 0.9905362776025236\n"
     ]
    },
    {
     "name": "stderr",
     "output_type": "stream",
     "text": [
      "100%|██████████| 335/335 [00:00<00:00, 3432.89it/s]\n"
     ]
    },
    {
     "name": "stdout",
     "output_type": "stream",
     "text": [
      "50 test f1_score = 0.8254716981132075\n",
      "50 test predcision_score = 0.8136623748211731\n",
      "50 test recall_score = 0.8376288659793815\n",
      "50 test report =               precision    recall  f1-score   support\n",
      "\n",
      "       实验室检验   0.769504  0.834615  0.800738       260\n",
      "        影像检查   0.845304  0.900000  0.871795       170\n",
      "          手术   0.801802  0.809091  0.805430       110\n",
      "       疾病和诊断   0.833787  0.803150  0.818182       762\n",
      "          药物   0.828326  0.835498  0.831897       231\n",
      "        解剖部位   0.805578  0.854607  0.829368      1183\n",
      "\n",
      "   micro avg   0.813662  0.837629  0.825472      2716\n",
      "   macro avg   0.814050  0.839493  0.826235      2716\n",
      "weighted avg   0.814307  0.837629  0.825390      2716\n",
      "\n",
      "25 Epoch\n",
      "Epoch:25 | i:0 | loss:0.6377696990966797 | Micro_F1:0.9957983193277311 | predcision: 0.9957983193277311 | recall: 0.9957983193277311\n"
     ]
    },
    {
     "name": "stderr",
     "output_type": "stream",
     "text": [
      "100%|██████████| 335/335 [00:00<00:00, 3175.80it/s]\n"
     ]
    },
    {
     "name": "stdout",
     "output_type": "stream",
     "text": [
      "50 test f1_score = 0.823058737952355\n",
      "50 test predcision_score = 0.8131512756018685\n",
      "50 test recall_score = 0.8332106038291606\n",
      "50 test report =               precision    recall  f1-score   support\n",
      "\n",
      "       实验室检验   0.794574  0.788462  0.791506       260\n",
      "        影像检查   0.853933  0.894118  0.873563       170\n",
      "          手术   0.809091  0.809091  0.809091       110\n",
      "       疾病和诊断   0.823212  0.800525  0.811710       762\n",
      "          药物   0.827586  0.831169  0.829374       231\n",
      "        解剖部位   0.803006  0.857988  0.829587      1183\n",
      "\n",
      "   micro avg   0.813151  0.833211  0.823059      2716\n",
      "   macro avg   0.818567  0.830225  0.824138      2716\n",
      "weighted avg   0.813393  0.833211  0.822830      2716\n",
      "\n",
      "26 Epoch\n",
      "Epoch:26 | i:0 | loss:1.0588874816894531 | Micro_F1:0.995475113122172 | predcision: 0.995475113122172 | recall: 0.995475113122172\n"
     ]
    },
    {
     "name": "stderr",
     "output_type": "stream",
     "text": [
      "100%|██████████| 335/335 [00:00<00:00, 3356.24it/s]\n"
     ]
    },
    {
     "name": "stdout",
     "output_type": "stream",
     "text": [
      "50 test f1_score = 0.8218733080671358\n",
      "50 test predcision_score = 0.8060176991150443\n",
      "50 test recall_score = 0.8383652430044183\n",
      "50 test report =               precision    recall  f1-score   support\n",
      "\n",
      "       实验室检验   0.798561  0.853846  0.825279       260\n",
      "        影像检查   0.839779  0.894118  0.866097       170\n",
      "          手术   0.796460  0.818182  0.807175       110\n",
      "       疾病和诊断   0.839286  0.801837  0.820134       762\n",
      "          药物   0.819328  0.844156  0.831557       231\n",
      "        解剖部位   0.782440  0.851226  0.815385      1183\n",
      "\n",
      "   micro avg   0.806018  0.838365  0.821873      2716\n",
      "   macro avg   0.812642  0.843894  0.827604      2716\n",
      "weighted avg   0.807226  0.838365  0.821881      2716\n",
      "\n",
      "27 Epoch\n",
      "Epoch:27 | i:0 | loss:1.9753637313842773 | Micro_F1:0.9779559118236473 | predcision: 0.9721115537848606 | recall: 0.9838709677419355\n"
     ]
    },
    {
     "name": "stderr",
     "output_type": "stream",
     "text": [
      "100%|██████████| 335/335 [00:00<00:00, 3441.90it/s]\n"
     ]
    },
    {
     "name": "stdout",
     "output_type": "stream",
     "text": [
      "50 test f1_score = 0.8189374774123601\n",
      "50 test predcision_score = 0.8041163946061036\n",
      "50 test recall_score = 0.8343151693667158\n",
      "50 test report =               precision    recall  f1-score   support\n",
      "\n",
      "       实验室检验   0.794872  0.834615  0.814259       260\n",
      "        影像检查   0.845304  0.900000  0.871795       170\n",
      "          手术   0.807339  0.800000  0.803653       110\n",
      "       疾病和诊断   0.818548  0.799213  0.808765       762\n",
      "          药物   0.823529  0.848485  0.835821       231\n",
      "        解剖部位   0.787903  0.847844  0.816775      1183\n",
      "\n",
      "   micro avg   0.804116  0.834315  0.818937      2716\n",
      "   macro avg   0.812916  0.838360  0.825178      2716\n",
      "weighted avg   0.804578  0.834315  0.818819      2716\n",
      "\n",
      "28 Epoch\n",
      "Epoch:28 | i:0 | loss:1.3285136222839355 | Micro_F1:0.9807692307692307 | predcision: 0.9732824427480916 | recall: 0.9883720930232558\n"
     ]
    },
    {
     "name": "stderr",
     "output_type": "stream",
     "text": [
      "100%|██████████| 335/335 [00:00<00:00, 3251.41it/s]\n"
     ]
    },
    {
     "name": "stdout",
     "output_type": "stream",
     "text": [
      "50 test f1_score = 0.8174631692418253\n",
      "50 test predcision_score = 0.7982456140350878\n",
      "50 test recall_score = 0.8376288659793815\n",
      "50 test report =               precision    recall  f1-score   support\n",
      "\n",
      "       实验室检验   0.776596  0.842308  0.808118       260\n",
      "        影像检查   0.817204  0.894118  0.853933       170\n",
      "          手术   0.778761  0.800000  0.789238       110\n",
      "       疾病和诊断   0.816576  0.788714  0.802403       762\n",
      "          药物   0.828452  0.857143  0.842553       231\n",
      "        解剖部位   0.785935  0.859679  0.821155      1183\n",
      "\n",
      "   micro avg   0.798246  0.837629  0.817463      2716\n",
      "   macro avg   0.800587  0.840327  0.819567      2716\n",
      "weighted avg   0.798920  0.837629  0.817225      2716\n",
      "\n",
      "29 Epoch\n",
      "Epoch:29 | i:0 | loss:0.3832817077636719 | Micro_F1:1.0 | predcision: 1.0 | recall: 1.0\n"
     ]
    },
    {
     "name": "stderr",
     "output_type": "stream",
     "text": [
      "100%|██████████| 335/335 [00:00<00:00, 3192.24it/s]\n"
     ]
    },
    {
     "name": "stdout",
     "output_type": "stream",
     "text": [
      "50 test f1_score = 0.8128612716763006\n",
      "50 test predcision_score = 0.7978723404255319\n",
      "50 test recall_score = 0.8284241531664213\n",
      "50 test report =               precision    recall  f1-score   support\n",
      "\n",
      "       实验室检验   0.786765  0.823077  0.804511       260\n",
      "        影像检查   0.828571  0.852941  0.840580       170\n",
      "          手术   0.745763  0.800000  0.771930       110\n",
      "       疾病和诊断   0.816667  0.771654  0.793522       762\n",
      "          药物   0.830508  0.848485  0.839400       231\n",
      "        解剖部位   0.784450  0.861369  0.821112      1183\n",
      "\n",
      "   micro avg   0.797872  0.828424  0.812861      2716\n",
      "   macro avg   0.798787  0.826254  0.811843      2716\n",
      "weighted avg   0.798822  0.828424  0.812564      2716\n",
      "\n",
      "30 Epoch\n",
      "Epoch:30 | i:0 | loss:0.6657500267028809 | Micro_F1:0.992063492063492 | predcision: 0.9960159362549801 | recall: 0.9881422924901185\n"
     ]
    },
    {
     "name": "stderr",
     "output_type": "stream",
     "text": [
      "100%|██████████| 335/335 [00:00<00:00, 3369.06it/s]\n"
     ]
    },
    {
     "name": "stdout",
     "output_type": "stream",
     "text": [
      "50 test f1_score = 0.8092989466037049\n",
      "50 test predcision_score = 0.7985663082437277\n",
      "50 test recall_score = 0.8203240058910162\n",
      "50 test report =               precision    recall  f1-score   support\n",
      "\n",
      "       实验室检验   0.764925  0.788462  0.776515       260\n",
      "        影像检查   0.798913  0.864706  0.830508       170\n",
      "          手术   0.807339  0.800000  0.803653       110\n",
      "       疾病和诊断   0.820793  0.787402  0.803751       762\n",
      "          药物   0.817797  0.835498  0.826552       231\n",
      "        解剖部位   0.788431  0.841082  0.813906      1183\n",
      "\n",
      "   micro avg   0.798566  0.820324  0.809299      2716\n",
      "   macro avg   0.799700  0.819525  0.809148      2716\n",
      "weighted avg   0.799180  0.820324  0.809177      2716\n",
      "\n",
      "31 Epoch\n",
      "Epoch:31 | i:0 | loss:1.782766342163086 | Micro_F1:0.9750000000000001 | predcision: 0.9790794979079498 | recall: 0.970954356846473\n"
     ]
    },
    {
     "name": "stderr",
     "output_type": "stream",
     "text": [
      "100%|██████████| 335/335 [00:00<00:00, 3424.62it/s]\n"
     ]
    },
    {
     "name": "stdout",
     "output_type": "stream",
     "text": [
      "50 test f1_score = 0.8075607560756075\n",
      "50 test predcision_score = 0.7900669249735822\n",
      "50 test recall_score = 0.8258468335787923\n",
      "50 test report =               precision    recall  f1-score   support\n",
      "\n",
      "       实验室检验   0.723906  0.826923  0.771993       260\n",
      "        影像检查   0.814607  0.852941  0.833333       170\n",
      "          手术   0.797980  0.718182  0.755981       110\n",
      "       疾病和诊断   0.784537  0.812336  0.798195       762\n",
      "          药物   0.825000  0.857143  0.840764       231\n",
      "        解剖部位   0.798544  0.834320  0.816040      1183\n",
      "\n",
      "   micro avg   0.790067  0.825847  0.807561      2716\n",
      "   macro avg   0.790762  0.816974  0.802718      2716\n",
      "weighted avg   0.790702  0.825847  0.807569      2716\n",
      "\n",
      "32 Epoch\n",
      "Epoch:32 | i:0 | loss:1.0892362594604492 | Micro_F1:0.9904030710172745 | predcision: 0.9885057471264368 | recall: 0.9923076923076923\n"
     ]
    },
    {
     "name": "stderr",
     "output_type": "stream",
     "text": [
      "100%|██████████| 335/335 [00:00<00:00, 3209.00it/s]\n"
     ]
    },
    {
     "name": "stdout",
     "output_type": "stream",
     "text": [
      "50 test f1_score = 0.8229317851959361\n",
      "50 test predcision_score = 0.8111587982832618\n",
      "50 test recall_score = 0.8350515463917526\n",
      "50 test report =               precision    recall  f1-score   support\n",
      "\n",
      "       实验室检验   0.787546  0.826923  0.806754       260\n",
      "        影像检查   0.807910  0.841176  0.824207       170\n",
      "          手术   0.809091  0.809091  0.809091       110\n",
      "       疾病和诊断   0.828104  0.796588  0.812040       762\n",
      "          药物   0.835443  0.857143  0.846154       231\n",
      "        解剖部位   0.802528  0.858833  0.829726      1183\n",
      "\n",
      "   micro avg   0.811159  0.835052  0.822932      2716\n",
      "   macro avg   0.811770  0.831626  0.821329      2716\n",
      "weighted avg   0.811671  0.835052  0.822781      2716\n",
      "\n",
      "33 Epoch\n",
      "Epoch:33 | i:0 | loss:4.242613792419434 | Micro_F1:0.9621621621621622 | predcision: 0.9709090909090909 | recall: 0.9535714285714286\n"
     ]
    },
    {
     "name": "stderr",
     "output_type": "stream",
     "text": [
      "100%|██████████| 335/335 [00:00<00:00, 3250.96it/s]\n"
     ]
    },
    {
     "name": "stdout",
     "output_type": "stream",
     "text": [
      "50 test f1_score = 0.8211091234347049\n",
      "50 test predcision_score = 0.7985386221294363\n",
      "50 test recall_score = 0.8449926362297496\n",
      "50 test report =               precision    recall  f1-score   support\n",
      "\n",
      "       实验室检验   0.757042  0.826923  0.790441       260\n",
      "        影像检查   0.844828  0.864706  0.854651       170\n",
      "          手术   0.841121  0.818182  0.829493       110\n",
      "       疾病和诊断   0.822819  0.804462  0.813537       762\n",
      "          药物   0.807377  0.852814  0.829474       231\n",
      "        解剖部位   0.782576  0.873204  0.825410      1183\n",
      "\n",
      "   micro avg   0.798539  0.844993  0.821109      2716\n",
      "   macro avg   0.809294  0.840048  0.823834      2716\n",
      "weighted avg   0.799799  0.844993  0.821072      2716\n",
      "\n",
      "34 Epoch\n",
      "Epoch:34 | i:0 | loss:0.545811653137207 | Micro_F1:0.9934354485776805 | predcision: 0.9912663755458515 | recall: 0.9956140350877193\n"
     ]
    },
    {
     "name": "stderr",
     "output_type": "stream",
     "text": [
      "100%|██████████| 335/335 [00:00<00:00, 3389.37it/s]\n"
     ]
    },
    {
     "name": "stdout",
     "output_type": "stream",
     "text": [
      "50 test f1_score = 0.8158792886653494\n",
      "50 test predcision_score = 0.7965626096106629\n",
      "50 test recall_score = 0.8361561119293078\n",
      "50 test report =               precision    recall  f1-score   support\n",
      "\n",
      "       实验室检验   0.714765  0.819231  0.763441       260\n",
      "        影像检查   0.813187  0.870588  0.840909       170\n",
      "          手术   0.778761  0.800000  0.789238       110\n",
      "       疾病和诊断   0.803430  0.799213  0.801316       762\n",
      "          药物   0.819277  0.883117  0.850000       231\n",
      "        解剖部位   0.806555  0.852916  0.829088      1183\n",
      "\n",
      "   micro avg   0.796563  0.836156  0.815879      2716\n",
      "   macro avg   0.789329  0.837511  0.812332      2716\n",
      "weighted avg   0.797263  0.836156  0.815916      2716\n",
      "\n",
      "35 Epoch\n",
      "Epoch:35 | i:0 | loss:0.541254997253418 | Micro_F1:0.99581589958159 | predcision: 0.9916666666666667 | recall: 1.0\n"
     ]
    },
    {
     "name": "stderr",
     "output_type": "stream",
     "text": [
      "100%|██████████| 335/335 [00:00<00:00, 3099.49it/s]\n"
     ]
    },
    {
     "name": "stdout",
     "output_type": "stream",
     "text": [
      "50 test f1_score = 0.8155862811994973\n",
      "50 test predcision_score = 0.7960042060988434\n",
      "50 test recall_score = 0.8361561119293078\n",
      "50 test report =               precision    recall  f1-score   support\n",
      "\n",
      "       实验室检验   0.736111  0.815385  0.773723       260\n",
      "        影像检查   0.811111  0.858824  0.834286       170\n",
      "          手术   0.814815  0.800000  0.807339       110\n",
      "       疾病和诊断   0.826087  0.772966  0.798644       762\n",
      "          药物   0.821577  0.857143  0.838983       231\n",
      "        解剖部位   0.784580  0.877430  0.828412      1183\n",
      "\n",
      "   micro avg   0.796004  0.836156  0.815586      2716\n",
      "   macro avg   0.799047  0.830291  0.813564      2716\n",
      "weighted avg   0.797617  0.836156  0.815238      2716\n",
      "\n",
      "36 Epoch\n",
      "Epoch:36 | i:0 | loss:0.7104415893554688 | Micro_F1:0.9898580121703855 | predcision: 0.9878542510121457 | recall: 0.991869918699187\n"
     ]
    },
    {
     "name": "stderr",
     "output_type": "stream",
     "text": [
      "100%|██████████| 335/335 [00:00<00:00, 3213.16it/s]\n"
     ]
    },
    {
     "name": "stdout",
     "output_type": "stream",
     "text": [
      "50 test f1_score = 0.8209764918625678\n",
      "50 test predcision_score = 0.806680881307747\n",
      "50 test recall_score = 0.8357879234167894\n",
      "50 test report =               precision    recall  f1-score   support\n",
      "\n",
      "       实验室检验   0.764925  0.788462  0.776515       260\n",
      "        影像检查   0.860465  0.870588  0.865497       170\n",
      "          手术   0.815789  0.845455  0.830357       110\n",
      "       疾病和诊断   0.820055  0.783465  0.801342       762\n",
      "          药物   0.829787  0.844156  0.836910       231\n",
      "        解剖部位   0.795682  0.872358  0.832258      1183\n",
      "\n",
      "   micro avg   0.806681  0.835788  0.820976      2716\n",
      "   macro avg   0.814451  0.834081  0.823813      2716\n",
      "weighted avg   0.807346  0.835788  0.820647      2716\n",
      "\n",
      "37 Epoch\n",
      "Epoch:37 | i:0 | loss:1.3490514755249023 | Micro_F1:0.9865642994241843 | predcision: 0.9884615384615385 | recall: 0.9846743295019157\n"
     ]
    },
    {
     "name": "stderr",
     "output_type": "stream",
     "text": [
      "100%|██████████| 335/335 [00:00<00:00, 3267.92it/s]\n"
     ]
    },
    {
     "name": "stdout",
     "output_type": "stream",
     "text": [
      "50 test f1_score = 0.8198329095532146\n",
      "50 test predcision_score = 0.8089605734767025\n",
      "50 test recall_score = 0.8310014727540501\n",
      "50 test report =               precision    recall  f1-score   support\n",
      "\n",
      "       实验室检验   0.771536  0.792308  0.781784       260\n",
      "        影像检查   0.824859  0.858824  0.841499       170\n",
      "          手术   0.842593  0.827273  0.834862       110\n",
      "       疾病和诊断   0.832187  0.793963  0.812626       762\n",
      "          药物   0.842795  0.835498  0.839130       231\n",
      "        解剖部位   0.792512  0.858833  0.824341      1183\n",
      "\n",
      "   micro avg   0.808961  0.831001  0.819833      2716\n",
      "   macro avg   0.817747  0.827783  0.822374      2716\n",
      "weighted avg   0.809965  0.831001  0.819738      2716\n",
      "\n",
      "38 Epoch\n",
      "Epoch:38 | i:0 | loss:0.20552349090576172 | Micro_F1:1.0 | predcision: 1.0 | recall: 1.0\n"
     ]
    },
    {
     "name": "stderr",
     "output_type": "stream",
     "text": [
      "100%|██████████| 335/335 [00:00<00:00, 3299.25it/s]\n"
     ]
    },
    {
     "name": "stdout",
     "output_type": "stream",
     "text": [
      "50 test f1_score = 0.8213523131672597\n",
      "50 test predcision_score = 0.7947658402203857\n",
      "50 test recall_score = 0.8497790868924889\n",
      "50 test report =               precision    recall  f1-score   support\n",
      "\n",
      "       实验室检验   0.740614  0.834615  0.784810       260\n",
      "        影像检查   0.820652  0.888235  0.853107       170\n",
      "          手术   0.810811  0.818182  0.814480       110\n",
      "       疾病和诊断   0.814815  0.808399  0.811594       762\n",
      "          药物   0.821577  0.857143  0.838983       231\n",
      "        解剖部位   0.785444  0.875740  0.828137      1183\n",
      "\n",
      "   micro avg   0.794766  0.849779  0.821352      2716\n",
      "   macro avg   0.798985  0.847052  0.821852      2716\n",
      "weighted avg   0.795697  0.849779  0.821281      2716\n",
      "\n",
      "39 Epoch\n",
      "Epoch:39 | i:0 | loss:0.3008384704589844 | Micro_F1:1.0 | predcision: 1.0 | recall: 1.0\n"
     ]
    },
    {
     "name": "stderr",
     "output_type": "stream",
     "text": [
      "100%|██████████| 335/335 [00:00<00:00, 3304.95it/s]\n"
     ]
    },
    {
     "name": "stdout",
     "output_type": "stream",
     "text": [
      "50 test f1_score = 0.8164739884393063\n",
      "50 test predcision_score = 0.8014184397163121\n",
      "50 test recall_score = 0.8321060382916053\n",
      "50 test report =               precision    recall  f1-score   support\n",
      "\n",
      "       实验室检验   0.748252  0.823077  0.783883       260\n",
      "        影像检查   0.822222  0.870588  0.845714       170\n",
      "          手术   0.783784  0.790909  0.787330       110\n",
      "       疾病和诊断   0.807292  0.813648  0.810458       762\n",
      "          药物   0.831897  0.835498  0.833693       231\n",
      "        解剖部位   0.802896  0.843618  0.822754      1183\n",
      "\n",
      "   micro avg   0.801418  0.832106  0.816474      2716\n",
      "   macro avg   0.799390  0.829556  0.813972      2716\n",
      "weighted avg   0.801800  0.832106  0.816516      2716\n",
      "\n",
      "40 Epoch\n",
      "Epoch:40 | i:0 | loss:0.544342041015625 | Micro_F1:0.994059405940594 | predcision: 0.9920948616600791 | recall: 0.996031746031746\n"
     ]
    },
    {
     "name": "stderr",
     "output_type": "stream",
     "text": [
      "100%|██████████| 335/335 [00:00<00:00, 3206.08it/s]\n"
     ]
    },
    {
     "name": "stdout",
     "output_type": "stream",
     "text": [
      "50 test f1_score = 0.8213903743315508\n",
      "50 test predcision_score = 0.7961299239806496\n",
      "50 test recall_score = 0.8483063328424153\n",
      "50 test report =               precision    recall  f1-score   support\n",
      "\n",
      "       实验室检验   0.753425  0.846154  0.797101       260\n",
      "        影像检查   0.802083  0.905882  0.850829       170\n",
      "          手术   0.801887  0.772727  0.787037       110\n",
      "       疾病和诊断   0.835425  0.786089  0.810007       762\n",
      "          药物   0.818898  0.900433  0.857732       231\n",
      "        解剖部位   0.778695  0.877430  0.825119      1183\n",
      "\n",
      "   micro avg   0.796130  0.848306  0.821390      2716\n",
      "   macro avg   0.798402  0.848119  0.821304      2716\n",
      "weighted avg   0.798015  0.848306  0.821038      2716\n",
      "\n",
      "41 Epoch\n",
      "Epoch:41 | i:0 | loss:0.16508865356445312 | Micro_F1:1.0 | predcision: 1.0 | recall: 1.0\n"
     ]
    },
    {
     "name": "stderr",
     "output_type": "stream",
     "text": [
      "100%|██████████| 335/335 [00:00<00:00, 3173.00it/s]\n"
     ]
    },
    {
     "name": "stdout",
     "output_type": "stream",
     "text": [
      "50 test f1_score = 0.8210488376284015\n",
      "50 test predcision_score = 0.8040945993646311\n",
      "50 test recall_score = 0.8387334315169367\n",
      "50 test report =               precision    recall  f1-score   support\n",
      "\n",
      "       实验室检验   0.761733  0.811538  0.785847       260\n",
      "        影像检查   0.821229  0.864706  0.842407       170\n",
      "          手术   0.780702  0.809091  0.794643       110\n",
      "       疾病和诊断   0.820755  0.799213  0.809840       762\n",
      "          药物   0.810700  0.852814  0.831224       231\n",
      "        解剖部位   0.802034  0.866441  0.832995      1183\n",
      "\n",
      "   micro avg   0.804095  0.838733  0.821049      2716\n",
      "   macro avg   0.799525  0.833967  0.816159      2716\n",
      "weighted avg   0.804503  0.838733  0.820870      2716\n",
      "\n",
      "42 Epoch\n",
      "Epoch:42 | i:0 | loss:0.45675230026245117 | Micro_F1:0.9978494623655914 | predcision: 0.9957081545064378 | recall: 1.0\n"
     ]
    },
    {
     "name": "stderr",
     "output_type": "stream",
     "text": [
      "100%|██████████| 335/335 [00:00<00:00, 3305.03it/s]\n"
     ]
    },
    {
     "name": "stdout",
     "output_type": "stream",
     "text": [
      "50 test f1_score = 0.8205496676845698\n",
      "50 test predcision_score = 0.801122413188355\n",
      "50 test recall_score = 0.8409425625920471\n",
      "50 test report =               precision    recall  f1-score   support\n",
      "\n",
      "       实验室检验   0.755172  0.842308  0.796364       260\n",
      "        影像检查   0.828571  0.852941  0.840580       170\n",
      "          手术   0.765766  0.772727  0.769231       110\n",
      "       疾病和诊断   0.814570  0.807087  0.810811       762\n",
      "          药物   0.829060  0.839827  0.834409       231\n",
      "        解剖部位   0.797823  0.867287  0.831106      1183\n",
      "\n",
      "   micro avg   0.801122  0.840943  0.820550      2716\n",
      "   macro avg   0.798494  0.830363  0.813750      2716\n",
      "weighted avg   0.801721  0.840943  0.820454      2716\n",
      "\n",
      "43 Epoch\n",
      "Epoch:43 | i:0 | loss:1.3245429992675781 | Micro_F1:0.9879931389365352 | predcision: 0.9829351535836177 | recall: 0.993103448275862\n"
     ]
    },
    {
     "name": "stderr",
     "output_type": "stream",
     "text": [
      "100%|██████████| 335/335 [00:00<00:00, 3143.28it/s]\n"
     ]
    },
    {
     "name": "stdout",
     "output_type": "stream",
     "text": [
      "50 test f1_score = 0.8183949504057709\n",
      "50 test predcision_score = 0.8020501944149876\n",
      "50 test recall_score = 0.835419734904271\n",
      "50 test report =               precision    recall  f1-score   support\n",
      "\n",
      "       实验室检验   0.747405  0.830769  0.786885       260\n",
      "        影像检查   0.831522  0.900000  0.864407       170\n",
      "          手术   0.778761  0.800000  0.789238       110\n",
      "       疾病和诊断   0.819539  0.792651  0.805871       762\n",
      "          药物   0.821138  0.874459  0.846960       231\n",
      "        解剖部位   0.798413  0.850380  0.823578      1183\n",
      "\n",
      "   micro avg   0.802050  0.835420  0.818395      2716\n",
      "   macro avg   0.799463  0.841377  0.819490      2716\n",
      "weighted avg   0.802666  0.835420  0.818251      2716\n",
      "\n",
      "44 Epoch\n",
      "Epoch:44 | i:0 | loss:0.39113521575927734 | Micro_F1:0.9952380952380953 | predcision: 0.9952380952380953 | recall: 0.9952380952380953\n"
     ]
    },
    {
     "name": "stderr",
     "output_type": "stream",
     "text": [
      "100%|██████████| 335/335 [00:00<00:00, 3226.62it/s]\n"
     ]
    },
    {
     "name": "stdout",
     "output_type": "stream",
     "text": [
      "50 test f1_score = 0.8172351885098743\n",
      "50 test predcision_score = 0.7974772249474422\n",
      "50 test recall_score = 0.8379970544918999\n",
      "50 test report =               precision    recall  f1-score   support\n",
      "\n",
      "       实验室检验   0.725694  0.803846  0.762774       260\n",
      "        影像检查   0.829670  0.888235  0.857955       170\n",
      "          手术   0.776786  0.790909  0.783784       110\n",
      "       疾病和诊断   0.812584  0.796588  0.804506       762\n",
      "          药物   0.829167  0.861472  0.845011       231\n",
      "        解剖部位   0.796109  0.864751  0.829011      1183\n",
      "\n",
      "   micro avg   0.797477  0.837997  0.817235      2716\n",
      "   macro avg   0.795002  0.834300  0.813840      2716\n",
      "weighted avg   0.798120  0.837997  0.817136      2716\n",
      "\n",
      "45 Epoch\n",
      "Epoch:45 | i:0 | loss:0.3267059326171875 | Micro_F1:0.997624703087886 | predcision: 0.995260663507109 | recall: 1.0\n"
     ]
    },
    {
     "name": "stderr",
     "output_type": "stream",
     "text": [
      "100%|██████████| 335/335 [00:00<00:00, 3296.91it/s]\n"
     ]
    },
    {
     "name": "stdout",
     "output_type": "stream",
     "text": [
      "50 test f1_score = 0.8219227967953386\n",
      "50 test predcision_score = 0.8130403458213257\n",
      "50 test recall_score = 0.8310014727540501\n",
      "50 test report =               precision    recall  f1-score   support\n",
      "\n",
      "       实验室检验   0.768116  0.815385  0.791045       260\n",
      "        影像检查   0.838889  0.888235  0.862857       170\n",
      "          手术   0.771930  0.800000  0.785714       110\n",
      "       疾病和诊断   0.841040  0.763780  0.800550       762\n",
      "          药物   0.838983  0.857143  0.847966       231\n",
      "        解剖部位   0.802817  0.867287  0.833807      1183\n",
      "\n",
      "   micro avg   0.813040  0.831001  0.821923      2716\n",
      "   macro avg   0.810296  0.831971  0.820323      2716\n",
      "weighted avg   0.814302  0.831001  0.821458      2716\n",
      "\n",
      "46 Epoch\n",
      "Epoch:46 | i:0 | loss:0.37497901916503906 | Micro_F1:0.9884526558891454 | predcision: 0.9907407407407407 | recall: 0.9861751152073732\n"
     ]
    },
    {
     "name": "stderr",
     "output_type": "stream",
     "text": [
      "100%|██████████| 335/335 [00:00<00:00, 3271.87it/s]\n"
     ]
    },
    {
     "name": "stdout",
     "output_type": "stream",
     "text": [
      "50 test f1_score = 0.8153651023736184\n",
      "50 test predcision_score = 0.8027113806635747\n",
      "50 test recall_score = 0.8284241531664213\n",
      "50 test report =               precision    recall  f1-score   support\n",
      "\n",
      "       实验室检验   0.755474  0.796154  0.775281       260\n",
      "        影像检查   0.830601  0.894118  0.861190       170\n",
      "          手术   0.780702  0.809091  0.794643       110\n",
      "       疾病和诊断   0.816958  0.796588  0.806645       762\n",
      "          药物   0.839450  0.792208  0.815145       231\n",
      "        解剖部位   0.796223  0.855452  0.824776      1183\n",
      "\n",
      "   micro avg   0.802711  0.828424  0.815365      2716\n",
      "   macro avg   0.803235  0.823935  0.812946      2716\n",
      "weighted avg   0.803340  0.828424  0.815191      2716\n",
      "\n",
      "47 Epoch\n",
      "Epoch:47 | i:0 | loss:0.3187742233276367 | Micro_F1:0.997946611909651 | predcision: 1.0 | recall: 0.9959016393442623\n"
     ]
    },
    {
     "name": "stderr",
     "output_type": "stream",
     "text": [
      "100%|██████████| 335/335 [00:00<00:00, 3118.87it/s]\n"
     ]
    },
    {
     "name": "stdout",
     "output_type": "stream",
     "text": [
      "50 test f1_score = 0.8180998738056606\n",
      "50 test predcision_score = 0.8014835747085836\n",
      "50 test recall_score = 0.835419734904271\n",
      "50 test report =               precision    recall  f1-score   support\n",
      "\n",
      "       实验室检验   0.731707  0.807692  0.767824       260\n",
      "        影像检查   0.805263  0.900000  0.850000       170\n",
      "          手术   0.785714  0.800000  0.792793       110\n",
      "       疾病和诊断   0.818674  0.793963  0.806129       762\n",
      "          药物   0.835443  0.857143  0.846154       231\n",
      "        解剖部位   0.801738  0.857988  0.828910      1183\n",
      "\n",
      "   micro avg   0.801484  0.835420  0.818100      2716\n",
      "   macro avg   0.796423  0.836131  0.815302      2716\n",
      "weighted avg   0.802224  0.835420  0.817995      2716\n",
      "\n",
      "48 Epoch\n",
      "Epoch:48 | i:0 | loss:0.27829694747924805 | Micro_F1:0.9966777408637874 | predcision: 0.9966777408637874 | recall: 0.9966777408637874\n"
     ]
    },
    {
     "name": "stderr",
     "output_type": "stream",
     "text": [
      "100%|██████████| 335/335 [00:00<00:00, 3166.34it/s]\n"
     ]
    },
    {
     "name": "stdout",
     "output_type": "stream",
     "text": [
      "50 test f1_score = 0.8154815481548155\n",
      "50 test predcision_score = 0.7978161324410004\n",
      "50 test recall_score = 0.8339469808541974\n",
      "50 test report =               precision    recall  f1-score   support\n",
      "\n",
      "       实验室检验   0.736462  0.784615  0.759777       260\n",
      "        影像检查   0.816568  0.811765  0.814159       170\n",
      "          手术   0.803571  0.818182  0.810811       110\n",
      "       疾病和诊断   0.810992  0.793963  0.802387       762\n",
      "          药物   0.854626  0.839827  0.847162       231\n",
      "        解剖部位   0.790520  0.874049  0.830189      1183\n",
      "\n",
      "   micro avg   0.797816  0.833947  0.815482      2716\n",
      "   macro avg   0.802123  0.820400  0.810747      2716\n",
      "weighted avg   0.798700  0.833947  0.815304      2716\n",
      "\n",
      "49 Epoch\n",
      "Epoch:49 | i:0 | loss:0.38791465759277344 | Micro_F1:0.9954954954954955 | predcision: 0.9954954954954955 | recall: 0.9954954954954955\n"
     ]
    },
    {
     "name": "stderr",
     "output_type": "stream",
     "text": [
      "100%|██████████| 335/335 [00:00<00:00, 3205.18it/s]\n"
     ]
    },
    {
     "name": "stdout",
     "output_type": "stream",
     "text": [
      "50 test f1_score = 0.8171621862204024\n",
      "50 test predcision_score = 0.7911065149948294\n",
      "50 test recall_score = 0.8449926362297496\n",
      "50 test report =               precision    recall  f1-score   support\n",
      "\n",
      "       实验室检验   0.706667  0.815385  0.757143       260\n",
      "        影像检查   0.829670  0.888235  0.857955       170\n",
      "          手术   0.771186  0.827273  0.798246       110\n",
      "       疾病和诊断   0.815574  0.783465  0.799197       762\n",
      "          药物   0.840336  0.865801  0.852878       231\n",
      "        解剖部位   0.784373  0.882502  0.830549      1183\n",
      "\n",
      "   micro avg   0.791107  0.844993  0.817162      2716\n",
      "   macro avg   0.791301  0.843777  0.815995      2716\n",
      "weighted avg   0.792749  0.844993  0.817032      2716\n",
      "\n"
     ]
    }
   ],
   "execution_count": 38
  }
 ],
 "metadata": {
  "kernelspec": {
   "name": "python3",
   "language": "python",
   "display_name": "Python 3 (ipykernel)"
  },
  "language_info": {
   "codemirror_mode": {
    "name": "ipython",
    "version": 2
   },
   "file_extension": ".py",
   "mimetype": "text/x-python",
   "name": "python",
   "nbconvert_exporter": "python",
   "pygments_lexer": "ipython2",
   "version": "2.7.6"
  }
 },
 "nbformat": 4,
 "nbformat_minor": 5
}
